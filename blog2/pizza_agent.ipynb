{
 "cells": [
  {
   "cell_type": "markdown",
   "id": "26f665b2-033c-4557-b81a-b4b02f42c5a7",
   "metadata": {},
   "source": [
    "### Try to build a an agent that will work with client to compile and execute a sql order\n",
    " - bonus: build a tool to email the order details (including price) when done"
   ]
  },
  {
   "cell_type": "code",
   "execution_count": 1,
   "id": "140068b8-8e40-41cc-92ce-f9c5ea477f56",
   "metadata": {},
   "outputs": [],
   "source": [
    "# open ai authentication\n",
    "\n",
    "import os\n",
    "import openai\n",
    "from dotenv import load_dotenv, find_dotenv\n",
    "_ = load_dotenv(find_dotenv()) # read local .env file\n",
    "import dbio\n",
    "\n",
    "openai.api_key  = os.getenv('OPENAI_API_KEY')"
   ]
  },
  {
   "cell_type": "code",
   "execution_count": 22,
   "id": "d95478ef-8361-4fb3-aa50-f65a55df1885",
   "metadata": {},
   "outputs": [],
   "source": [
    "# email util\n",
    "\n",
    "import smtplib\n",
    "from email.mime.multipart import MIMEMultipart\n",
    "from email.mime.text import MIMEText\n",
    "\n",
    "def get_mail_server(server='smtp.gmail.com', port=587):\n",
    "    '''Allocate mail server on port'''\n",
    "    mailServer = smtplib.SMTP(server, port)\n",
    "    test = mailServer.starttls()  # start TLS\n",
    "    assert test[1].lower().find(b'ready') != -1\n",
    "    return mailServer\n",
    "\n",
    "def format_message(message, sender, receiver, subject):\n",
    "    '''\n",
    "    Format arguments into MIMEMultipart object\n",
    "    '''\n",
    "\n",
    "    # message\n",
    "    msg = MIMEMultipart()\n",
    "    msg['From'] = sender\n",
    "    msg['To'] = ', '.join(receiver)\n",
    "    msg['Subject'] = subject\n",
    "    msg.attach(MIMEText(message, 'html'))\n",
    "\n",
    "    return msg\n",
    "\n",
    "def send_message(msg, sender, receiver, verbose=False):\n",
    "    if verbose:\n",
    "        print(f'sending mail from {sender} to {receiver}')\n",
    "    with get_mail_server() as mailServer:\n",
    "        mailServer.sendmail(sender, receiver, msg.as_string())"
   ]
  },
  {
   "cell_type": "code",
   "execution_count": 24,
   "id": "83ccc509-44e1-44fa-b86e-6244a5ba5f42",
   "metadata": {},
   "outputs": [
    {
     "name": "stdout",
     "output_type": "stream",
     "text": [
      "sending mail from orderbot.com to tweinzirl@gmail.com\n"
     ]
    },
    {
     "ename": "SMTPSenderRefused",
     "evalue": "(530, b'5.7.0 Authentication Required. Learn more at\\n5.7.0  https://support.google.com/mail/?p=WantAuthError 15-20020a17090a004f00b0025352448ba9sm14414384pjb.0 - gsmtp', 'orderbot.com')",
     "output_type": "error",
     "traceback": [
      "\u001b[0;31m---------------------------------------------------------------------------\u001b[0m",
      "\u001b[0;31mSMTPSenderRefused\u001b[0m                         Traceback (most recent call last)",
      "Cell \u001b[0;32mIn[24], line 2\u001b[0m\n\u001b[1;32m      1\u001b[0m msg \u001b[38;5;241m=\u001b[39m format_message(\u001b[38;5;124m'\u001b[39m\u001b[38;5;124mhello time\u001b[39m\u001b[38;5;124m'\u001b[39m, \u001b[38;5;124m'\u001b[39m\u001b[38;5;124mtweinzirl@gmail.com\u001b[39m\u001b[38;5;124m'\u001b[39m, \u001b[38;5;124m'\u001b[39m\u001b[38;5;124mtweinzirl@gmail.com\u001b[39m\u001b[38;5;124m'\u001b[39m, \u001b[38;5;124m'\u001b[39m\u001b[38;5;124mtest mail\u001b[39m\u001b[38;5;124m'\u001b[39m)\n\u001b[0;32m----> 2\u001b[0m \u001b[43msend_message\u001b[49m\u001b[43m(\u001b[49m\u001b[43mmsg\u001b[49m\u001b[43m,\u001b[49m\u001b[43m \u001b[49m\u001b[38;5;124;43m'\u001b[39;49m\u001b[38;5;124;43morderbot.com\u001b[39;49m\u001b[38;5;124;43m'\u001b[39;49m\u001b[43m,\u001b[49m\u001b[43m \u001b[49m\u001b[38;5;124;43m'\u001b[39;49m\u001b[38;5;124;43mtweinzirl@gmail.com\u001b[39;49m\u001b[38;5;124;43m'\u001b[39;49m\u001b[43m,\u001b[49m\u001b[43m \u001b[49m\u001b[43mverbose\u001b[49m\u001b[38;5;241;43m=\u001b[39;49m\u001b[38;5;28;43;01mTrue\u001b[39;49;00m\u001b[43m)\u001b[49m\n\u001b[1;32m      4\u001b[0m \u001b[38;5;66;03m#enabling gmail will require 2-factor authentication with google\u001b[39;00m\n",
      "Cell \u001b[0;32mIn[22], line 32\u001b[0m, in \u001b[0;36msend_message\u001b[0;34m(msg, sender, receiver, verbose)\u001b[0m\n\u001b[1;32m     30\u001b[0m     \u001b[38;5;28mprint\u001b[39m(\u001b[38;5;124mf\u001b[39m\u001b[38;5;124m'\u001b[39m\u001b[38;5;124msending mail from \u001b[39m\u001b[38;5;132;01m{\u001b[39;00msender\u001b[38;5;132;01m}\u001b[39;00m\u001b[38;5;124m to \u001b[39m\u001b[38;5;132;01m{\u001b[39;00mreceiver\u001b[38;5;132;01m}\u001b[39;00m\u001b[38;5;124m'\u001b[39m)\n\u001b[1;32m     31\u001b[0m \u001b[38;5;28;01mwith\u001b[39;00m get_mail_server() \u001b[38;5;28;01mas\u001b[39;00m mailServer:\n\u001b[0;32m---> 32\u001b[0m     \u001b[43mmailServer\u001b[49m\u001b[38;5;241;43m.\u001b[39;49m\u001b[43msendmail\u001b[49m\u001b[43m(\u001b[49m\u001b[43msender\u001b[49m\u001b[43m,\u001b[49m\u001b[43m \u001b[49m\u001b[43mreceiver\u001b[49m\u001b[43m,\u001b[49m\u001b[43m \u001b[49m\u001b[43mmsg\u001b[49m\u001b[38;5;241;43m.\u001b[39;49m\u001b[43mas_string\u001b[49m\u001b[43m(\u001b[49m\u001b[43m)\u001b[49m\u001b[43m)\u001b[49m\n",
      "File \u001b[0;32m/usr/lib/python3.11/smtplib.py:887\u001b[0m, in \u001b[0;36mSMTP.sendmail\u001b[0;34m(self, from_addr, to_addrs, msg, mail_options, rcpt_options)\u001b[0m\n\u001b[1;32m    885\u001b[0m     \u001b[38;5;28;01melse\u001b[39;00m:\n\u001b[1;32m    886\u001b[0m         \u001b[38;5;28mself\u001b[39m\u001b[38;5;241m.\u001b[39m_rset()\n\u001b[0;32m--> 887\u001b[0m     \u001b[38;5;28;01mraise\u001b[39;00m SMTPSenderRefused(code, resp, from_addr)\n\u001b[1;32m    888\u001b[0m senderrs \u001b[38;5;241m=\u001b[39m {}\n\u001b[1;32m    889\u001b[0m \u001b[38;5;28;01mif\u001b[39;00m \u001b[38;5;28misinstance\u001b[39m(to_addrs, \u001b[38;5;28mstr\u001b[39m):\n",
      "\u001b[0;31mSMTPSenderRefused\u001b[0m: (530, b'5.7.0 Authentication Required. Learn more at\\n5.7.0  https://support.google.com/mail/?p=WantAuthError 15-20020a17090a004f00b0025352448ba9sm14414384pjb.0 - gsmtp', 'orderbot.com')"
     ]
    }
   ],
   "source": [
    "msg = format_message('hello time', 'tweinzirl@gmail.com', 'tweinzirl@gmail.com', 'test mail')\n",
    "send_message(msg, 'orderbot.com', 'tweinzirl@gmail.com', verbose=True)\n",
    "\n",
    "#enabling gmail will require 2-factor authentication with google"
   ]
  },
  {
   "cell_type": "markdown",
   "id": "632db549-b5a5-4960-bbf2-8b82171a76af",
   "metadata": {},
   "source": [
    "# Instantiate the components separately"
   ]
  },
  {
   "cell_type": "code",
   "execution_count": null,
   "id": "5a3010e9-cb3e-4a26-bbe2-e010d721ea0f",
   "metadata": {},
   "outputs": [],
   "source": [
    "# langchain\n",
    "from langchain.agents import create_sql_agent\n",
    "from langchain.agents.agent_toolkits import SQLDatabaseToolkit\n",
    "from langchain.sql_database import SQLDatabase\n",
    "from langchain.chat_models import ChatOpenAI\n",
    "from langchain.agents import AgentExecutor"
   ]
  },
  {
   "cell_type": "code",
   "execution_count": null,
   "id": "6562bff5-92c7-4421-b8ca-5df0830e6470",
   "metadata": {},
   "outputs": [],
   "source": [
    "# llm\n",
    "llm = ChatOpenAI(model_name=\"gpt-3.5-turbo\", temperature=0, verbose=True)\n",
    "\n",
    "# database\n",
    "db = SQLDatabase.from_uri(\"sqlite:///./pizza_v2.db\")\n",
    "toolkit = SQLDatabaseToolkit(db=db, llm=llm)"
   ]
  },
  {
   "cell_type": "code",
   "execution_count": null,
   "id": "1e8c378b-e164-482d-9fab-1b0b284e2927",
   "metadata": {},
   "outputs": [],
   "source": [
    "agent_executor = create_sql_agent(\n",
    "    llm=llm,\n",
    "    toolkit=toolkit,\n",
    "    verbose=True\n",
    ")"
   ]
  },
  {
   "cell_type": "code",
   "execution_count": null,
   "id": "c8744195-ceea-4747-babf-108d58e1b5b6",
   "metadata": {},
   "outputs": [],
   "source": [
    "agent_executor.run('describe the pizzas table')"
   ]
  },
  {
   "cell_type": "code",
   "execution_count": null,
   "id": "87eca68b-687a-4184-8a00-0321e26ca77b",
   "metadata": {},
   "outputs": [],
   "source": [
    "from langchain.agents import initialize_agent"
   ]
  },
  {
   "cell_type": "code",
   "execution_count": null,
   "id": "fab3a99f-a677-4159-ad05-ce00700ed0f1",
   "metadata": {},
   "outputs": [],
   "source": [
    "initialize_agent?"
   ]
  },
  {
   "cell_type": "markdown",
   "id": "50f86b8f-e1b3-4183-b9bd-e8af4108f381",
   "metadata": {},
   "source": [
    "# try with general chat and sql tool\n",
    "\n",
    " - following the example [here](https://python.langchain.com/en/latest/modules/agents/agents/examples/chat_conversation_agent.html) of an agent that can call tools and chat with the usert too\n",
    " - Note there is no prompt specific setting the context for the OrderBot"
   ]
  },
  {
   "cell_type": "code",
   "execution_count": 2,
   "id": "942eae0c-adef-4229-a9cc-f36adc3a2bb5",
   "metadata": {},
   "outputs": [],
   "source": [
    "from langchain.agents import Tool\n",
    "from langchain.memory import ConversationBufferMemory\n",
    "from langchain.chat_models import ChatOpenAI\n",
    "from langchain.sql_database import SQLDatabase\n",
    "from langchain.agents import initialize_agent\n",
    "from langchain.agents import AgentType"
   ]
  },
  {
   "cell_type": "code",
   "execution_count": 3,
   "id": "9d3a88b9-d897-4f8c-a36b-e3479393a62c",
   "metadata": {},
   "outputs": [],
   "source": [
    "memory = ConversationBufferMemory(memory_key=\"chat_history\", return_messages=True)"
   ]
  },
  {
   "cell_type": "code",
   "execution_count": 4,
   "id": "4216b799-c56d-4f34-ba50-eb4ab37d1157",
   "metadata": {},
   "outputs": [],
   "source": [
    "llm = ChatOpenAI(model_name=\"gpt-3.5-turbo\", temperature=0, verbose=True)"
   ]
  },
  {
   "cell_type": "code",
   "execution_count": 5,
   "id": "2fcff8ef-8cc2-404b-b650-d1a9e76d2e3f",
   "metadata": {},
   "outputs": [],
   "source": [
    "db = SQLDatabase.from_uri(\"sqlite:///./pizza_v2.db\")\n",
    "from langchain.chains import SQLDatabaseSequentialChain\n",
    "seq_chain = SQLDatabaseSequentialChain.from_llm(llm, db, verbose=True)"
   ]
  },
  {
   "cell_type": "code",
   "execution_count": 6,
   "id": "1f4055cd-fbc1-4c88-8ae5-743eb5eeab32",
   "metadata": {},
   "outputs": [],
   "source": [
    "tools = [\n",
    "    Tool(\n",
    "        name = \"menu search\",\n",
    "        func=seq_chain.run,\n",
    "        description=\"\"\"useful for when you need to answer questions about menu items the user wants to order.\n",
    "        Search your chat history before deciding you need to use this.\"\"\"\n",
    "    ),\n",
    "]"
   ]
  },
  {
   "cell_type": "code",
   "execution_count": 7,
   "id": "092e6c55-80a2-43ce-902e-ec4c99f0bfd5",
   "metadata": {},
   "outputs": [],
   "source": [
    "agent_chain = initialize_agent(tools, llm, agent=AgentType.CHAT_CONVERSATIONAL_REACT_DESCRIPTION,\n",
    "                               verbose=True, memory=memory)\n",
    "# access chat memory with agent_chain.memory"
   ]
  },
  {
   "cell_type": "code",
   "execution_count": 8,
   "id": "f73e656c-d044-4119-bae5-1a7eb2a26e68",
   "metadata": {},
   "outputs": [
    {
     "name": "stdout",
     "output_type": "stream",
     "text": [
      "\n",
      "\n",
      "\u001b[1m> Entering new AgentExecutor chain...\u001b[0m\n",
      "\u001b[32;1m\u001b[1;3m{\n",
      "    \"action\": \"Final Answer\",\n",
      "    \"action_input\": \"Hello Tim! How can I assist you today?\"\n",
      "}\u001b[0m\n",
      "\n",
      "\u001b[1m> Finished chain.\u001b[0m\n"
     ]
    },
    {
     "data": {
      "text/plain": [
       "'Hello Tim! How can I assist you today?'"
      ]
     },
     "execution_count": 8,
     "metadata": {},
     "output_type": "execute_result"
    }
   ],
   "source": [
    "agent_chain.run(input=\"hi, i am Tim\")"
   ]
  },
  {
   "cell_type": "code",
   "execution_count": 9,
   "id": "553f756c-848f-4a42-ba58-cf149db55fc5",
   "metadata": {},
   "outputs": [
    {
     "name": "stdout",
     "output_type": "stream",
     "text": [
      "\n",
      "\n",
      "\u001b[1m> Entering new AgentExecutor chain...\u001b[0m\n",
      "\u001b[32;1m\u001b[1;3m{\n",
      "    \"action\": \"menu search\",\n",
      "    \"action_input\": \"bottled water sizes\"\n",
      "}\u001b[0m\n",
      "\n",
      "\u001b[1m> Entering new SQLDatabaseSequentialChain chain...\u001b[0m\n",
      "Table names to use:\n",
      "\u001b[33;1m\u001b[1;3m['drinks']\u001b[0m\n",
      "\n",
      "\u001b[1m> Entering new SQLDatabaseChain chain...\u001b[0m\n",
      "bottled water sizes\n",
      "SQLQuery:\u001b[32;1m\u001b[1;3mSELECT Price_Small FROM drinks WHERE Item = 'Bottled water'\u001b[0m\n",
      "SQLResult: \u001b[33;1m\u001b[1;3m[(None,)]\u001b[0m\n",
      "Answer:\u001b[32;1m\u001b[1;3mBottled water comes in a single size of 20 ounces.\u001b[0m\n",
      "\u001b[1m> Finished chain.\u001b[0m\n",
      "\n",
      "\u001b[1m> Finished chain.\u001b[0m\n",
      "\n",
      "Observation: \u001b[36;1m\u001b[1;3mBottled water comes in a single size of 20 ounces.\u001b[0m\n",
      "Thought:\u001b[32;1m\u001b[1;3m{\n",
      "    \"action\": \"Final Answer\",\n",
      "    \"action_input\": \"Bottled water comes in a single size of 20 ounces.\"\n",
      "}\u001b[0m\n",
      "\n",
      "\u001b[1m> Finished chain.\u001b[0m\n"
     ]
    },
    {
     "data": {
      "text/plain": [
       "'Bottled water comes in a single size of 20 ounces.'"
      ]
     },
     "execution_count": 9,
     "metadata": {},
     "output_type": "execute_result"
    }
   ],
   "source": [
    "agent_chain.run('How many sizes of bottled water do you have?')"
   ]
  },
  {
   "cell_type": "code",
   "execution_count": 10,
   "id": "2e995348-6e37-4534-a447-0057615e627c",
   "metadata": {},
   "outputs": [
    {
     "name": "stdout",
     "output_type": "stream",
     "text": [
      "\n",
      "\n",
      "\u001b[1m> Entering new AgentExecutor chain...\u001b[0m\n",
      "\u001b[32;1m\u001b[1;3m```json\n",
      "{\n",
      "    \"action\": \"menu search\",\n",
      "    \"action_input\": \"What is your most popular pizza?\"\n",
      "}\n",
      "```\u001b[0m\n",
      "\n",
      "\u001b[1m> Entering new SQLDatabaseSequentialChain chain...\u001b[0m\n",
      "Table names to use:\n",
      "\u001b[33;1m\u001b[1;3m['pizzas']\u001b[0m\n",
      "\n",
      "\u001b[1m> Entering new SQLDatabaseChain chain...\u001b[0m\n",
      "What is your most popular pizza?\n",
      "SQLQuery:\u001b[32;1m\u001b[1;3mSELECT Item, Description FROM pizzas ORDER BY Price_Large DESC LIMIT 1\u001b[0m\n",
      "SQLResult: \u001b[33;1m\u001b[1;3m[('Pepperoni pizza', 'Our most popular')]\u001b[0m\n",
      "Answer:\u001b[32;1m\u001b[1;3mPepperoni pizza\u001b[0m\n",
      "\u001b[1m> Finished chain.\u001b[0m\n",
      "\n",
      "\u001b[1m> Finished chain.\u001b[0m\n",
      "\n",
      "Observation: \u001b[36;1m\u001b[1;3mPepperoni pizza\u001b[0m\n",
      "Thought:\u001b[32;1m\u001b[1;3m```json\n",
      "{\n",
      "    \"action\": \"Final Answer\",\n",
      "    \"action_input\": \"Our most popular pizza is pepperoni pizza.\"\n",
      "}\n",
      "```\u001b[0m\n",
      "\n",
      "\u001b[1m> Finished chain.\u001b[0m\n"
     ]
    },
    {
     "data": {
      "text/plain": [
       "'Our most popular pizza is pepperoni pizza.'"
      ]
     },
     "execution_count": 10,
     "metadata": {},
     "output_type": "execute_result"
    }
   ],
   "source": [
    "agent_chain.run('I will take the bottled water.  What is you most popular pizza?')"
   ]
  },
  {
   "cell_type": "code",
   "execution_count": 11,
   "id": "c0828971-66ee-4ad9-a438-186092bd9cb8",
   "metadata": {},
   "outputs": [
    {
     "name": "stdout",
     "output_type": "stream",
     "text": [
      "\n",
      "\n",
      "\u001b[1m> Entering new AgentExecutor chain...\u001b[0m\n",
      "\u001b[32;1m\u001b[1;3m```json\n",
      "{\n",
      "    \"action\": \"menu search\",\n",
      "    \"action_input\": \"large pepperoni pizza with sausage and extra cheese\"\n",
      "}\n",
      "```\u001b[0m\n",
      "\n",
      "\u001b[1m> Entering new SQLDatabaseSequentialChain chain...\u001b[0m\n",
      "Table names to use:\n",
      "\u001b[33;1m\u001b[1;3m['toppings', 'pizzas']\u001b[0m\n",
      "\n",
      "\u001b[1m> Entering new SQLDatabaseChain chain...\u001b[0m\n",
      "large pepperoni pizza with sausage and extra cheese\n",
      "SQLQuery:\u001b[32;1m\u001b[1;3mSELECT pizzas.Item, pizzas.Price_Large, toppings.Price\n",
      "FROM pizzas, toppings\n",
      "WHERE pizzas.Item = 'Pepperoni pizza' AND toppings.Item IN ('Sausage', 'Extra cheese')\u001b[0m\n",
      "SQLResult: \u001b[33;1m\u001b[1;3m[('Pepperoni pizza', '12.95', '2.00'), ('Pepperoni pizza', '12.95', '3.00')]\u001b[0m\n",
      "Answer:\u001b[32;1m\u001b[1;3mThe price of a large pepperoni pizza with sausage and extra cheese is $17.95 (12.95 + 2.00 + 3.00).\u001b[0m\n",
      "\u001b[1m> Finished chain.\u001b[0m\n",
      "\n",
      "\u001b[1m> Finished chain.\u001b[0m\n",
      "\n",
      "Observation: \u001b[36;1m\u001b[1;3mThe price of a large pepperoni pizza with sausage and extra cheese is $17.95 (12.95 + 2.00 + 3.00).\u001b[0m\n",
      "Thought:\u001b[32;1m\u001b[1;3m```json\n",
      "{\n",
      "    \"action\": \"Final Answer\",\n",
      "    \"action_input\": \"The price of a large pepperoni pizza with sausage and extra cheese is $17.95 (12.95 + 2.00 + 3.00).\"\n",
      "}\n",
      "```\u001b[0m\n",
      "\n",
      "\u001b[1m> Finished chain.\u001b[0m\n"
     ]
    },
    {
     "data": {
      "text/plain": [
       "'The price of a large pepperoni pizza with sausage and extra cheese is $17.95 (12.95 + 2.00 + 3.00).'"
      ]
     },
     "execution_count": 11,
     "metadata": {},
     "output_type": "execute_result"
    }
   ],
   "source": [
    "agent_chain.run(input=\"\"\"I would like the large pepperoni pizza\n",
    "topped with both sausage and extra cheese.\n",
    "How much is this pizza?\n",
    "That is it.\n",
    "For pickup please\"\"\")"
   ]
  },
  {
   "cell_type": "code",
   "execution_count": 13,
   "id": "c26f57f6-566a-4dee-9a29-3a663115e4a7",
   "metadata": {},
   "outputs": [
    {
     "name": "stdout",
     "output_type": "stream",
     "text": [
      "\n",
      "\n",
      "\u001b[1m> Entering new AgentExecutor chain...\u001b[0m\n",
      "\u001b[32;1m\u001b[1;3m```json\n",
      "{\n",
      "    \"action\": \"menu search\",\n",
      "    \"action_input\": \"Can you please summarize the order for me?\"\n",
      "}\n",
      "```\u001b[0m\n",
      "\n",
      "\u001b[1m> Entering new SQLDatabaseSequentialChain chain...\u001b[0m\n",
      "Table names to use:\n",
      "\u001b[33;1m\u001b[1;3m['pizzas']\u001b[0m\n",
      "\n",
      "\u001b[1m> Entering new SQLDatabaseChain chain...\u001b[0m\n",
      "Can you please summarize the order for me?\n",
      "SQLQuery:\u001b[32;1m\u001b[1;3mSELECT Item, Price_Large, Price_Medium, Price_Small FROM pizzas\u001b[0m\n",
      "SQLResult: \u001b[33;1m\u001b[1;3m[('Pepperoni pizza', '12.95', '10', '7'), ('Cheese pizza', '10.95', '9.25', '6.50'), ('Eggplant pizza', '11.95', '9.75', '6.75')]\u001b[0m\n",
      "Answer:\u001b[32;1m\u001b[1;3mHere is a summary of the order:\n",
      "- Pepperoni pizza: Large $12.95, Medium $10, Small $7\n",
      "- Cheese pizza: Large $10.95, Medium $9.25, Small $6.50\n",
      "- Eggplant pizza: Large $11.95, Medium $9.75, Small $6.75\u001b[0m\n",
      "\u001b[1m> Finished chain.\u001b[0m\n",
      "\n",
      "\u001b[1m> Finished chain.\u001b[0m\n",
      "\n",
      "Observation: \u001b[36;1m\u001b[1;3mHere is a summary of the order:\n",
      "- Pepperoni pizza: Large $12.95, Medium $10, Small $7\n",
      "- Cheese pizza: Large $10.95, Medium $9.25, Small $6.50\n",
      "- Eggplant pizza: Large $11.95, Medium $9.75, Small $6.75\u001b[0m\n",
      "Thought:\u001b[32;1m\u001b[1;3m```json\n",
      "{\n",
      "    \"action\": \"Final Answer\",\n",
      "    \"action_input\": \"Your order is a large pepperoni pizza with sausage and extra cheese for $17.95.\"\n",
      "}\n",
      "```\u001b[0m\n",
      "\n",
      "\u001b[1m> Finished chain.\u001b[0m\n"
     ]
    },
    {
     "data": {
      "text/plain": [
       "'Your order is a large pepperoni pizza with sausage and extra cheese for $17.95.'"
      ]
     },
     "execution_count": 13,
     "metadata": {},
     "output_type": "execute_result"
    }
   ],
   "source": [
    "agent_chain.run(input=\"Please summarize my order.\")"
   ]
  },
  {
   "cell_type": "code",
   "execution_count": 14,
   "id": "bfeeadbb-3d3b-4c74-a4a9-5d7f993c3f8d",
   "metadata": {},
   "outputs": [
    {
     "name": "stdout",
     "output_type": "stream",
     "text": [
      "\n",
      "\n",
      "\u001b[1m> Entering new AgentExecutor chain...\u001b[0m\n",
      "\u001b[32;1m\u001b[1;3m```json\n",
      "{\n",
      "    \"action\": \"Final Answer\",\n",
      "    \"action_input\": \"Your order of a large pepperoni pizza with sausage and extra cheese costs $17.95.\"\n",
      "}\n",
      "```\u001b[0m\n",
      "\n",
      "\u001b[1m> Finished chain.\u001b[0m\n"
     ]
    },
    {
     "data": {
      "text/plain": [
       "'Your order of a large pepperoni pizza with sausage and extra cheese costs $17.95.'"
      ]
     },
     "execution_count": 14,
     "metadata": {},
     "output_type": "execute_result"
    }
   ],
   "source": [
    "agent_chain.run(input=\"How much do I owe?\")"
   ]
  },
  {
   "cell_type": "code",
   "execution_count": null,
   "id": "d51898be-b3c9-4369-8a78-51c21a185f0e",
   "metadata": {},
   "outputs": [],
   "source": [
    "agent_chain.run(input=\"can you email me the receipt\")"
   ]
  },
  {
   "cell_type": "code",
   "execution_count": null,
   "id": "3c796816-89d2-4964-9156-66893a7fbceb",
   "metadata": {},
   "outputs": [],
   "source": [
    "initialize_agent?"
   ]
  },
  {
   "cell_type": "markdown",
   "id": "72cbc078-984a-4830-b276-133cb46fdcea",
   "metadata": {},
   "source": [
    "Try again with custom bot following example here: https://python.langchain.com/en/latest/modules/agents/agents/custom_llm_agent.html"
   ]
  },
  {
   "cell_type": "code",
   "execution_count": null,
   "id": "de690024-b104-45ba-8f65-c672d3b29ff9",
   "metadata": {},
   "outputs": [],
   "source": [
    "from langchain.agents import Tool, AgentExecutor, LLMSingleActionAgent, AgentOutputParser\n",
    "from langchain.prompts import StringPromptTemplate\n",
    "from langchain import LLMChain\n",
    "from langchain.chat_models import ChatOpenAI\n",
    "from typing import List, Union\n",
    "from langchain.schema import AgentAction, AgentFinish\n",
    "\n",
    "from langchain.sql_database import SQLDatabase\n",
    "from langchain.chains import SQLDatabaseSequentialChain\n",
    "\n",
    "from langchain.memory import ConversationBufferMemory\n",
    "#from langchain.agents import initialize_agent # alternative to AgentExecutor?\n",
    "#from langchain.agents import AgentType\n",
    "\n",
    "import re"
   ]
  },
  {
   "cell_type": "code",
   "execution_count": null,
   "id": "118cdf13-0c60-4d9c-b638-9c1bc0614e48",
   "metadata": {},
   "outputs": [],
   "source": [
    "# llm\n",
    "llm = ChatOpenAI(model_name=\"gpt-3.5-turbo\", temperature=0, verbose=True)\n",
    "\n",
    "# memory\n",
    "memory = ConversationBufferMemory(memory_key=\"chat_history\", return_messages=True)\n",
    "\n",
    "# db\n",
    "db = SQLDatabase.from_uri(\"sqlite:///./pizza_v2.db\")\n",
    "seq_chain = SQLDatabaseSequentialChain.from_llm(llm, db, verbose=True)\n",
    "\n",
    "# tools\n",
    "tools = [\n",
    "    Tool(\n",
    "        name = \"menu search\",\n",
    "        func=seq_chain.run,\n",
    "        description=\"useful for when you need to answer questions about menu items the user wants to order\"\n",
    "    ),\n",
    "]"
   ]
  },
  {
   "cell_type": "code",
   "execution_count": null,
   "id": "c1dc535b-a973-4db1-b017-73fe8f496674",
   "metadata": {},
   "outputs": [],
   "source": [
    "# prompt template\n",
    "\n",
    "# Set up the base template\n",
    "template_with_history = \"\"\"You are OrderBot, an automated service to collect orders for a pizza restaurant. \\\n",
    "You first greet the customer, then collects the order, \\\n",
    "and then asks if it's a pickup or delivery. \\\n",
    "You wait to collect the entire order, then summarize it and check for a final \\\n",
    "time if the customer wants to add anything else. \\\n",
    "If it's a delivery, you ask for an address. \\\n",
    "Finally you collect the payment.\\\n",
    "Make sure to clarify all options, extras and sizes to uniquely \\\n",
    "identify the item from the menu.\\\n",
    "You respond in a short, very conversational friendly style. \\\n",
    "\n",
    "You have access to the following tools: \\\n",
    "\n",
    "{tools} \\\n",
    "\n",
    "Use the following format: \\\n",
    "\n",
    "Question: the input question you must answer\n",
    "Thought: you should always think about what to do\n",
    "Action: the action to take, should be one of [{tool_names}]\n",
    "Action Input: the input to the action\n",
    "Observation: the result of the action\n",
    "... (this Thought/Action/Action Input/Observation can repeat N times)\n",
    "Thought: I now know the final answer\n",
    "Final Answer: the final answer to the original input question\n",
    "\n",
    "Begin!\n",
    "\n",
    "Previous conversation history:\n",
    "{history}\n",
    "\n",
    "New question: {input}\n",
    "{agent_scratchpad}\"\"\""
   ]
  },
  {
   "cell_type": "code",
   "execution_count": null,
   "id": "2e99faf4-4b4f-4705-9916-a0fad29b95c4",
   "metadata": {},
   "outputs": [],
   "source": [
    "# Set up a prompt template\n",
    "class CustomPromptTemplate(StringPromptTemplate):\n",
    "    # The template to use\n",
    "    template: str\n",
    "    # The list of tools available\n",
    "    tools: List[Tool]\n",
    "    \n",
    "    def format(self, **kwargs) -> str:\n",
    "        # Get the intermediate steps (AgentAction, Observation tuples)\n",
    "        # Format them in a particular way\n",
    "        intermediate_steps = kwargs.pop(\"intermediate_steps\")\n",
    "        thoughts = \"\"\n",
    "        for action, observation in intermediate_steps:\n",
    "            thoughts += action.log\n",
    "            thoughts += f\"\\nObservation: {observation}\\nThought: \"\n",
    "        # Set the agent_scratchpad variable to that value\n",
    "        kwargs[\"agent_scratchpad\"] = thoughts\n",
    "        # Create a tools variable from the list of tools provided\n",
    "        kwargs[\"tools\"] = \"\\n\".join([f\"{tool.name}: {tool.description}\" for tool in self.tools])\n",
    "        # Create a list of tool names for the tools provided\n",
    "        kwargs[\"tool_names\"] = \", \".join([tool.name for tool in self.tools])\n",
    "        return self.template.format(**kwargs)"
   ]
  },
  {
   "cell_type": "code",
   "execution_count": null,
   "id": "4e5b7668-4ee0-4991-9eee-a0eb243f6f00",
   "metadata": {},
   "outputs": [],
   "source": [
    "prompt_with_history = CustomPromptTemplate(\n",
    "    template=template_with_history,\n",
    "    tools=tools,\n",
    "    # This omits the `agent_scratchpad`, `tools`, and `tool_names` variables because those are generated dynamically\n",
    "    # This includes the `intermediate_steps` variable because that is needed\n",
    "    input_variables=[\"input\", \"intermediate_steps\", \"history\"]\n",
    ")"
   ]
  },
  {
   "cell_type": "code",
   "execution_count": null,
   "id": "e936bc3c-c843-4794-9eaa-f00c86ce63fb",
   "metadata": {},
   "outputs": [],
   "source": [
    "# Output parser\n",
    "class CustomOutputParser(AgentOutputParser):\n",
    "    \n",
    "    def parse(self, llm_output: str) -> Union[AgentAction, AgentFinish]:\n",
    "        # Check if agent should finish\n",
    "        if \"Final Answer:\" in llm_output:\n",
    "            return AgentFinish(\n",
    "                # Return values is generally always a dictionary with a single `output` key\n",
    "                # It is not recommended to try anything else at the moment :)\n",
    "                return_values={\"output\": llm_output.split(\"Final Answer:\")[-1].strip()},\n",
    "                log=llm_output,\n",
    "            )\n",
    "        # Parse out the action and action input\n",
    "        regex = r\"Action\\s*\\d*\\s*:(.*?)\\nAction\\s*\\d*\\s*Input\\s*\\d*\\s*:[\\s]*(.*)\"\n",
    "        match = re.search(regex, llm_output, re.DOTALL)\n",
    "        if not match:\n",
    "            raise ValueError(f\"Could not parse LLM output: `{llm_output}`\")\n",
    "        action = match.group(1).strip()\n",
    "        action_input = match.group(2)\n",
    "        # Return the action and action input\n",
    "        return AgentAction(tool=action, tool_input=action_input.strip(\" \").strip('\"'), log=llm_output)\n",
    "\n",
    "output_parser = CustomOutputParser()"
   ]
  },
  {
   "cell_type": "code",
   "execution_count": null,
   "id": "816c5d1a-8f54-4202-a16e-c72fc38f34cc",
   "metadata": {},
   "outputs": [],
   "source": [
    "# LLM chain consisting of the LLM and a prompt\n",
    "llm_chain = LLMChain(llm=llm, prompt=prompt_with_history)"
   ]
  },
  {
   "cell_type": "code",
   "execution_count": null,
   "id": "50ad3c9a-f42e-466c-92a4-d13d9d98750b",
   "metadata": {},
   "outputs": [],
   "source": [
    "tool_names = [tool.name for tool in tools]\n",
    "agent = LLMSingleActionAgent(\n",
    "    llm_chain=llm_chain, \n",
    "    output_parser=output_parser,\n",
    "    stop=[\"\\nObservation:\"], \n",
    "    allowed_tools=tool_names\n",
    ")"
   ]
  },
  {
   "cell_type": "code",
   "execution_count": null,
   "id": "53307959-3c74-413a-9a5c-1466dbeb312b",
   "metadata": {},
   "outputs": [],
   "source": [
    "agent_executor = AgentExecutor.from_agent_and_tools(agent=agent, tools=tools, verbose=True, memory=memory)"
   ]
  },
  {
   "cell_type": "code",
   "execution_count": null,
   "id": "cb253988-840b-427c-981b-4f1f8b12696b",
   "metadata": {},
   "outputs": [],
   "source": [
    "agent_executor.run(\"How many pizzas do you have?\")"
   ]
  },
  {
   "cell_type": "code",
   "execution_count": null,
   "id": "d8b4d01f-7f0c-480c-8ff2-bb4d6e502e8e",
   "metadata": {},
   "outputs": [],
   "source": []
  }
 ],
 "metadata": {
  "kernelspec": {
   "display_name": "Python 3 (ipykernel)",
   "language": "python",
   "name": "python3"
  },
  "language_info": {
   "codemirror_mode": {
    "name": "ipython",
    "version": 3
   },
   "file_extension": ".py",
   "mimetype": "text/x-python",
   "name": "python",
   "nbconvert_exporter": "python",
   "pygments_lexer": "ipython3",
   "version": "3.11.3"
  }
 },
 "nbformat": 4,
 "nbformat_minor": 5
}
