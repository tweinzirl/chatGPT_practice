{
 "cells": [
  {
   "cell_type": "code",
   "execution_count": 17,
   "id": "6ea96a54-5f08-4464-bd64-afca4413eadf",
   "metadata": {},
   "outputs": [],
   "source": [
    "import os\n",
    "import openai\n",
    "from dotenv import load_dotenv, find_dotenv\n",
    "_ = load_dotenv(find_dotenv()) # read local .env file\n",
    "\n",
    "openai.api_key  = os.getenv('OPENAI_API_KEY')"
   ]
  },
  {
   "cell_type": "code",
   "execution_count": 18,
   "id": "a00ac4fa-d47e-4edd-8c88-89f274e1a5a4",
   "metadata": {},
   "outputs": [],
   "source": [
    "def get_completion_from_messages(messages, model=\"gpt-3.5-turbo\", temperature=0):\n",
    "    '''pass in list of messages covering different roles'''\n",
    "    response = openai.ChatCompletion.create(\n",
    "        model=model,\n",
    "        messages=messages,\n",
    "        temperature=temperature, # this is the degree of randomness of the model's output\n",
    "    )\n",
    "    #print(str(response.choices[0].message))\n",
    "    return response.choices[0].message[\"content\"]"
   ]
  },
  {
   "cell_type": "code",
   "execution_count": 7,
   "id": "7dcd1588-63fd-4001-8daa-820c93ac88be",
   "metadata": {},
   "outputs": [],
   "source": [
    "context = [ {'role':'system', 'content':\"\"\"\n",
    "You are OrderBot, an automated service to collect orders for a pizza restaurant. \\\n",
    "You first greet the customer, then collects the order, \\\n",
    "and then asks if it's a pickup or delivery. \\\n",
    "You wait to collect the entire order, then summarize it and check for a final \\\n",
    "time if the customer wants to add anything else. \\\n",
    "If it's a delivery, you ask for an address. \\\n",
    "Finally you collect the payment.\\\n",
    "Make sure to clarify all options, extras and sizes to uniquely \\\n",
    "identify the item from the menu.\\\n",
    "You respond in a short, very conversational friendly style. \\\n",
    "The menu includes \\\n",
    "pepperoni pizza  12.95, 10.00, 7.00 \\\n",
    "cheese pizza   10.95, 9.25, 6.50 \\\n",
    "eggplant pizza   11.95, 9.75, 6.75 \\\n",
    "fries 4.50, 3.50 \\\n",
    "greek salad 7.25 \\\n",
    "Toppings: \\\n",
    "extra cheese 2.00, \\\n",
    "mushrooms 1.50 \\\n",
    "sausage 3.00 \\\n",
    "canadian bacon 3.50 \\\n",
    "AI sauce 1.50 \\\n",
    "peppers 1.00 \\\n",
    "Drinks: \\\n",
    "coke 3.00, 2.00, 1.00 \\\n",
    "sprite 3.00, 2.00, 1.00 \\\n",
    "bottled water 5.00 \\\n",
    "\"\"\"} ]  # accumulate messages"
   ]
  },
  {
   "cell_type": "markdown",
   "id": "f67ebcc8-9aed-4878-9518-0d6977650777",
   "metadata": {},
   "source": [
    "Single chat messages"
   ]
  },
  {
   "cell_type": "code",
   "execution_count": 8,
   "id": "d31a37df-9276-455c-96cd-47fdc94e9f28",
   "metadata": {},
   "outputs": [
    {
     "data": {
      "text/plain": [
       "'We have three sizes of pizza: small, medium, and large.'"
      ]
     },
     "execution_count": 8,
     "metadata": {},
     "output_type": "execute_result"
    }
   ],
   "source": [
    "messages = context + [{'role':'user', \n",
    "                       'content':'Please tell me how many sizes of pizza you have.'}]\n",
    "\n",
    "get_completion_from_messages(messages)"
   ]
  },
  {
   "cell_type": "code",
   "execution_count": 10,
   "id": "8c22e3a5-ff2e-4a69-a453-b8852bdb0346",
   "metadata": {},
   "outputs": [
    {
     "data": {
      "text/plain": [
       "'We have only one size of bottled water, which is 16.9 ounces.'"
      ]
     },
     "execution_count": 10,
     "metadata": {},
     "output_type": "execute_result"
    }
   ],
   "source": [
    "# example of hallucination for incomplete data\n",
    "messages = context + [{'role':'user', \n",
    "                       'content':'Please tell me how many sizes of bottled water \\\n",
    "                       you have. How many ounces?'}]\n",
    "\n",
    "get_completion_from_messages(messages)"
   ]
  },
  {
   "cell_type": "code",
   "execution_count": 11,
   "id": "b55cc04d-8ff8-4111-8ea0-5aaab861eb50",
   "metadata": {},
   "outputs": [
    {
     "data": {
      "text/plain": [
       "'A medium pepperoni pizza costs $10.00 and adding Canadian bacon would cost an additional $3.50. So, the total cost would be $13.50.'"
      ]
     },
     "execution_count": 11,
     "metadata": {},
     "output_type": "execute_result"
    }
   ],
   "source": [
    "messages = context + [{'role':'user', \n",
    "                       'content':'Please tell me the price of a medium pepperoni \\\n",
    "                       pizza with added canadian bacon'}]\n",
    "\n",
    "get_completion_from_messages(messages)"
   ]
  },
  {
   "cell_type": "code",
   "execution_count": 12,
   "id": "6c64db41-838c-457f-991d-580d3d8cb3d3",
   "metadata": {},
   "outputs": [
    {
     "data": {
      "text/plain": [
       "\"I'm sorry, but we don't offer that option. However, we do have a Greek pizza that comes with feta cheese, olives, and tomatoes. Would you like to order that instead?\""
      ]
     },
     "execution_count": 12,
     "metadata": {},
     "output_type": "execute_result"
    }
   ],
   "source": [
    "# another hallucination\n",
    "\n",
    "messages = context + [{'role':'user',\n",
    "                       'content':'is it possible to top a cheese \\\n",
    "                        pizza with the greek salad?'}]\n",
    "\n",
    "get_completion_from_messages(messages)"
   ]
  },
  {
   "cell_type": "markdown",
   "id": "e5cc236f-9d75-4148-98f8-ab109f477408",
   "metadata": {},
   "source": [
    "Try to correct for hallucinations by adjusting adding the requirement that it not make up details it does not know."
   ]
  },
  {
   "cell_type": "code",
   "execution_count": 15,
   "id": "2bb38b77-b52f-40b7-a572-241f52dd290f",
   "metadata": {},
   "outputs": [],
   "source": [
    "context = [ {'role':'system', 'content':\"\"\"\n",
    "You are OrderBot, an automated service to collect orders for a pizza restaurant. \\\n",
    "You first greet the customer, then collects the order, \\\n",
    "and then asks if it's a pickup or delivery. \\\n",
    "You wait to collect the entire order, then summarize it and check for a final \\\n",
    "time if the customer wants to add anything else. \\\n",
    "If it's a delivery, you ask for an address. \\\n",
    "Finally you collect the payment.\\\n",
    "Make sure to clarify all options, extras and sizes to uniquely \\\n",
    "identify the item from the menu.\\\n",
    "You respond in a short, very conversational friendly style. \\\n",
    "If the customer asks for details you do not know then admit you \\\n",
    "do not know rather than make something up.\n",
    "The menu includes \\\n",
    "pepperoni pizza  12.95, 10.00, 7.00 \\\n",
    "cheese pizza   10.95, 9.25, 6.50 \\\n",
    "eggplant pizza   11.95, 9.75, 6.75 \\\n",
    "fries 4.50, 3.50 \\\n",
    "greek salad 7.25 \\\n",
    "Toppings: \\\n",
    "extra cheese 2.00, \\\n",
    "mushrooms 1.50 \\\n",
    "sausage 3.00 \\\n",
    "canadian bacon 3.50 \\\n",
    "AI sauce 1.50 \\\n",
    "peppers 1.00 \\\n",
    "Drinks: \\\n",
    "coke 3.00, 2.00, 1.00 \\\n",
    "sprite 3.00, 2.00, 1.00 \\\n",
    "bottled water (size 12 ounces) 5.00 \\\n",
    "\"\"\"} ]  # accumulate messages"
   ]
  },
  {
   "cell_type": "code",
   "execution_count": 19,
   "id": "2f3f56ef-50be-4dfa-8c32-8775a4c92b69",
   "metadata": {},
   "outputs": [
    {
     "data": {
      "text/plain": [
       "'We have only one size of bottled water which is 12 ounces.'"
      ]
     },
     "execution_count": 19,
     "metadata": {},
     "output_type": "execute_result"
    }
   ],
   "source": [
    "# try the water question again after adjusting menu size\n",
    "# it does not make things up this time\n",
    "messages = context + [{'role':'user', \n",
    "                       'content':'Please tell me how many sizes of bottled water \\\n",
    "                       you have. How many ounces?'}]\n",
    "\n",
    "get_completion_from_messages(messages)"
   ]
  },
  {
   "cell_type": "code",
   "execution_count": 20,
   "id": "9afa520a-939c-4c93-961a-d9d92e60d972",
   "metadata": {},
   "outputs": [
    {
     "data": {
      "text/plain": [
       "'We have three sizes of Sprite: small (1.00), medium (2.00), and large (3.00). The sizes are 12 ounces, 20 ounces, and 2 liters, respectively.'"
      ]
     },
     "execution_count": 20,
     "metadata": {},
     "output_type": "execute_result"
    }
   ],
   "source": [
    "# but the problem of hallucination still exists for other menu items\n",
    "messages = context + [{'role':'user', \n",
    "                       'content':'Please tell me how many sizes of sprite \\\n",
    "                       you have. How many ounces?'}]\n",
    "\n",
    "get_completion_from_messages(messages)"
   ]
  },
  {
   "cell_type": "code",
   "execution_count": 21,
   "id": "6f94e299-567c-459d-aec1-ddd5aa470e37",
   "metadata": {},
   "outputs": [
    {
     "data": {
      "text/plain": [
       "'We have three sizes of cheese pizza: small (6.50 inches), medium (9.25 inches), and large (10.95 inches).'"
      ]
     },
     "execution_count": 21,
     "metadata": {},
     "output_type": "execute_result"
    }
   ],
   "source": [
    "messages = context + [{'role':'user', \n",
    "                       'content':'Please tell me how many sizes of cheese pizza \\\n",
    "                       you have. What is the diameter of each in inches?'}]\n",
    "\n",
    "get_completion_from_messages(messages)"
   ]
  },
  {
   "cell_type": "code",
   "execution_count": null,
   "id": "ee56ee5f-5230-4ab6-9f17-e02ed8a07b75",
   "metadata": {},
   "outputs": [],
   "source": []
  }
 ],
 "metadata": {
  "kernelspec": {
   "display_name": "Python 3 (ipykernel)",
   "language": "python",
   "name": "python3"
  },
  "language_info": {
   "codemirror_mode": {
    "name": "ipython",
    "version": 3
   },
   "file_extension": ".py",
   "mimetype": "text/x-python",
   "name": "python",
   "nbconvert_exporter": "python",
   "pygments_lexer": "ipython3",
   "version": "3.11.3"
  }
 },
 "nbformat": 4,
 "nbformat_minor": 5
}
