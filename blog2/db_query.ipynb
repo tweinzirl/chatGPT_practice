{
 "cells": [
  {
   "cell_type": "code",
   "execution_count": 1,
   "id": "709cbb9d-6bb3-4ec7-b058-6cd247f1cd8a",
   "metadata": {},
   "outputs": [],
   "source": [
    "import pandas as pd\n",
    "import dbio"
   ]
  },
  {
   "cell_type": "code",
   "execution_count": 2,
   "id": "bae8bc78-ccad-4537-bcf9-8a08894f56bc",
   "metadata": {},
   "outputs": [],
   "source": [
    "import os\n",
    "import openai\n",
    "from dotenv import load_dotenv, find_dotenv\n",
    "_ = load_dotenv(find_dotenv()) # read local .env file\n",
    "\n",
    "openai.api_key  = os.getenv('OPENAI_API_KEY')"
   ]
  },
  {
   "cell_type": "code",
   "execution_count": 3,
   "id": "8ebfb0c9-3ec6-4517-ae65-5da535f911b0",
   "metadata": {},
   "outputs": [],
   "source": [
    "from langchain.prompts.prompt import PromptTemplate\n",
    "from langchain import SQLDatabase, SQLDatabaseChain\n",
    "from langchain.chat_models import ChatOpenAI"
   ]
  },
  {
   "cell_type": "markdown",
   "id": "e6502315-a850-4b31-b41c-5129ae33537c",
   "metadata": {},
   "source": [
    "# First pass:\n",
    "\n",
    "Put everything in one table for the initial prototype."
   ]
  },
  {
   "cell_type": "code",
   "execution_count": null,
   "id": "356271e5-574b-4a73-b271-7f451305aa35",
   "metadata": {},
   "outputs": [],
   "source": [
    "# columns = Item type, Prices (Large, Medium, Small), Description\n",
    "menu = {'Pepperoni pizza': ['pizza', '12.95, 10, 7', 'Our most popular'],\n",
    "        'Cheese pizza':  ['pizza', '10.95, 9.25, 6.50', 'Extreme cheesiness'],\n",
    "        'Eggplant pizza':  ['pizza', '11.95, 9.75, 6.75', 'A contemporary classic'],\n",
    "        'Fries': ['side item', '4.50, 3.50', 'Available for a limited time'],\n",
    "        'Greek salad': ['side item', '7.25', 'Positively pantheonic'],\n",
    "        'Extra cheese': ['topping', '2.00', ''],\n",
    "        'Mushrooms': ['topping', '1.50', 'Non-hallucinogenic'],\n",
    "        'Sausage': ['topping', '3.00', 'Spicy with a hint of sweet'],\n",
    "        'Canadian bacon': ['topping', '3.50', ''],\n",
    "        'AI sauce': ['topping', '1.50', 'No human would have made it this way'],\n",
    "        'Peppers': ['topping', '1.00', ''],\n",
    "        'Coke': ['drink', '3.00, 2.00, 1.00', '3 Liter, 2 Liter, 16 ounces'],\n",
    "        'Sprite': ['drink', '3.00, 2.00, 1.00', '3 Liter, 2 Liter, 16 ounces'],\n",
    "        'Bottled water': ['drink', '5.00', '20 ounces'],\n",
    "        }\n",
    "\n",
    "menu_df = pd.DataFrame(menu).T.reset_index()\n",
    "menu_df.columns = ['Item', 'Type', 'Prices (Large, Medium, Small)', 'Description']\n",
    "menu_df"
   ]
  },
  {
   "cell_type": "code",
   "execution_count": null,
   "id": "a76b4c11-4f33-49cc-8660-a07e62709eff",
   "metadata": {},
   "outputs": [],
   "source": [
    "# store table in pizza_v1.db\n",
    "cobj = dbio.connectors.SQLite('pizza_v1.db')\n",
    "cobj.write(menu_df, 'menu', if_exists='replace')\n",
    "\n",
    "cobj.read('select count(*) from menu')"
   ]
  },
  {
   "cell_type": "code",
   "execution_count": null,
   "id": "bb9e3384-c34e-4509-b2e2-b319e2b5d2b9",
   "metadata": {},
   "outputs": [],
   "source": [
    "from langchain import OpenAI, SQLDatabase, SQLDatabaseChain\n",
    "\n",
    "db = SQLDatabase.from_uri(\"sqlite:///./pizza_v1.db\")\n",
    "llm = OpenAI(model_name=\"gpt-3.5-turbo\"temperature=0, verbose=True)"
   ]
  },
  {
   "cell_type": "code",
   "execution_count": null,
   "id": "1ad0ad19-981d-4a53-b039-235eb864ed77",
   "metadata": {},
   "outputs": [],
   "source": [
    "# database chain\n",
    "\n",
    "db_chain = SQLDatabaseChain.from_llm(llm, db, verbose=True)"
   ]
  },
  {
   "cell_type": "code",
   "execution_count": null,
   "id": "629e4a9d-25f9-47f3-b8ea-e557d793a286",
   "metadata": {},
   "outputs": [],
   "source": [
    "# query\n",
    "\n",
    "db_chain.run(\"How many kinds of pizza do you offer?\")"
   ]
  },
  {
   "cell_type": "code",
   "execution_count": null,
   "id": "9f9e42db-4554-4fd5-b3f3-46931fd83a7c",
   "metadata": {},
   "outputs": [],
   "source": [
    "# query - drinks\n",
    "\n",
    "db_chain.run(\"What drinks can I order\")"
   ]
  },
  {
   "cell_type": "code",
   "execution_count": null,
   "id": "4257bfc3-40d0-4270-90f7-a105fcda4652",
   "metadata": {},
   "outputs": [],
   "source": [
    "# query - bottled water\n",
    "\n",
    "db_chain.run(\"lease tell me how many sizes of bottled water \\\n",
    "                       you have. Do you know how big they are?\")"
   ]
  },
  {
   "cell_type": "markdown",
   "id": "4c03a309-ac01-4c69-88ac-6a7c12b9b426",
   "metadata": {},
   "source": [
    "Try again with updated prompt:\n",
    " - check in greater 1 field\n",
    " - lower case text"
   ]
  },
  {
   "cell_type": "code",
   "execution_count": null,
   "id": "43981a9b-b460-4cd1-b8b7-037953327be3",
   "metadata": {},
   "outputs": [],
   "source": [
    "from langchain.prompts.prompt import PromptTemplate\n",
    "\n",
    "_DEFAULT_TEMPLATE = \"\"\"Given an input question, first create a syntactically correct {dialect} query to run, \n",
    "then look at the results of the query and return the answer.\n",
    "Use the following format:\n",
    "\n",
    "Question: \"Question here\"\n",
    "SQLQuery: \"SQL Query to run\"\n",
    "SQLResult: \"Result of the SQLQuery\"\n",
    "Answer: \"Final answer here\"\n",
    "\n",
    "Only use the following tables:\n",
    "\n",
    "{table_info}\n",
    "\n",
    "When looking up information on products, be sure to check the Item and Type columns. Also lowercase the user\n",
    "input and fields in the tables to ensure a match. Use the LIKE operator to allow for partial string matches.\n",
    "\n",
    "In the WHERE CLAUSE combine mutliple filters together with a logical OR operator.\n",
    "\n",
    "Question: {input}\"\"\"\n",
    "PROMPT = PromptTemplate(\n",
    "    input_variables=[\"input\", \"table_info\", \"dialect\"], template=_DEFAULT_TEMPLATE\n",
    ")"
   ]
  },
  {
   "cell_type": "code",
   "execution_count": null,
   "id": "3c2a0ead-8154-4647-b0ef-6fbf09ce9a1c",
   "metadata": {},
   "outputs": [],
   "source": [
    "from langchain.prompts.prompt import PromptTemplate\n",
    "\n",
    "_DEFAULT_TEMPLATE = \"\"\"Step 1:\n",
    "Given an input question, write the syntactically correct {dialect} query that meets the following guidelines:\n",
    "  a. Be sure to check the the Item, Type, and Description columns.\n",
    "  b. Combine multiple WHERE filters with a logical OR\n",
    "  c. Lowercase the user input\n",
    "\n",
    "Step 2: Run the query.\n",
    "\n",
    "Step 3: Examine the results and return the answer.\n",
    "\n",
    "Use the following format:\n",
    "Question: \"Question here\"\n",
    "SQLQuery: \"SQL Query to run\"\n",
    "SQLResult: \"Result of the SQLQuery\"\n",
    "Answer: \"Final answer here\"\n",
    "\n",
    "Only use the following tables:\n",
    "\n",
    "{table_info}\n",
    "\n",
    "Table schema explanation:\n",
    "Item - the product name\n",
    "Type - kind of item (pizza, side item, topping, drink)\n",
    "Price - comma separate list of prices for large, medium, small.\n",
    "Description - extra information including sizes\n",
    "\n",
    "Question: {input}\"\"\"\n",
    "PROMPT = PromptTemplate(\n",
    "    input_variables=[\"input\", \"table_info\", \"dialect\"], template=_DEFAULT_TEMPLATE\n",
    ")"
   ]
  },
  {
   "cell_type": "code",
   "execution_count": null,
   "id": "5806c7fd-9a17-4f02-a086-f7f64623955f",
   "metadata": {},
   "outputs": [],
   "source": [
    "db_chain = SQLDatabaseChain.from_llm(llm, db, prompt=PROMPT, verbose=True)"
   ]
  },
  {
   "cell_type": "code",
   "execution_count": null,
   "id": "3222ace5-61a4-437f-b6a0-00db0cf71f1a",
   "metadata": {},
   "outputs": [],
   "source": [
    "db_chain.run(\"Please tell me how many sizes of water containing items do\\\n",
    "                       you have. Do you know how big they are?\")"
   ]
  },
  {
   "cell_type": "code",
   "execution_count": null,
   "id": "d40c2d8b-3991-4a7c-9799-732d6ec9043a",
   "metadata": {},
   "outputs": [],
   "source": [
    "db_chain.run(\"How much is a large cheese pizza?\")"
   ]
  },
  {
   "cell_type": "markdown",
   "id": "3054b23a-082c-4030-bf42-b1377158f9cc",
   "metadata": {},
   "source": [
    "# try again with tables for each kind of item"
   ]
  },
  {
   "cell_type": "code",
   "execution_count": 4,
   "id": "c58837f3-4810-4ffd-99b6-ce1686dae6f3",
   "metadata": {},
   "outputs": [
    {
     "data": {
      "text/html": [
       "<div>\n",
       "<style scoped>\n",
       "    .dataframe tbody tr th:only-of-type {\n",
       "        vertical-align: middle;\n",
       "    }\n",
       "\n",
       "    .dataframe tbody tr th {\n",
       "        vertical-align: top;\n",
       "    }\n",
       "\n",
       "    .dataframe thead th {\n",
       "        text-align: right;\n",
       "    }\n",
       "</style>\n",
       "<table border=\"1\" class=\"dataframe\">\n",
       "  <thead>\n",
       "    <tr style=\"text-align: right;\">\n",
       "      <th></th>\n",
       "      <th>Item</th>\n",
       "      <th>Price_Large</th>\n",
       "      <th>Price_Medium</th>\n",
       "      <th>Price_Small</th>\n",
       "      <th>Description</th>\n",
       "    </tr>\n",
       "  </thead>\n",
       "  <tbody>\n",
       "    <tr>\n",
       "      <th>0</th>\n",
       "      <td>Pepperoni pizza</td>\n",
       "      <td>12.95</td>\n",
       "      <td>10</td>\n",
       "      <td>7</td>\n",
       "      <td>Our most popular</td>\n",
       "    </tr>\n",
       "    <tr>\n",
       "      <th>1</th>\n",
       "      <td>Cheese pizza</td>\n",
       "      <td>10.95</td>\n",
       "      <td>9.25</td>\n",
       "      <td>6.50</td>\n",
       "      <td>Extreme cheesiness</td>\n",
       "    </tr>\n",
       "  </tbody>\n",
       "</table>\n",
       "</div>"
      ],
      "text/plain": [
       "              Item Price_Large Price_Medium Price_Small         Description\n",
       "0  Pepperoni pizza       12.95           10           7    Our most popular\n",
       "1     Cheese pizza       10.95         9.25        6.50  Extreme cheesiness"
      ]
     },
     "metadata": {},
     "output_type": "display_data"
    },
    {
     "data": {
      "text/html": [
       "<div>\n",
       "<style scoped>\n",
       "    .dataframe tbody tr th:only-of-type {\n",
       "        vertical-align: middle;\n",
       "    }\n",
       "\n",
       "    .dataframe tbody tr th {\n",
       "        vertical-align: top;\n",
       "    }\n",
       "\n",
       "    .dataframe thead th {\n",
       "        text-align: right;\n",
       "    }\n",
       "</style>\n",
       "<table border=\"1\" class=\"dataframe\">\n",
       "  <thead>\n",
       "    <tr style=\"text-align: right;\">\n",
       "      <th></th>\n",
       "      <th>Item</th>\n",
       "      <th>Price_Large</th>\n",
       "      <th>Price_Medium</th>\n",
       "      <th>Price_Small</th>\n",
       "      <th>Description</th>\n",
       "    </tr>\n",
       "  </thead>\n",
       "  <tbody>\n",
       "    <tr>\n",
       "      <th>0</th>\n",
       "      <td>Fries</td>\n",
       "      <td>4.50</td>\n",
       "      <td>3.50</td>\n",
       "      <td></td>\n",
       "      <td>Available for a limited time</td>\n",
       "    </tr>\n",
       "    <tr>\n",
       "      <th>1</th>\n",
       "      <td>Greek salad</td>\n",
       "      <td>7.25</td>\n",
       "      <td></td>\n",
       "      <td></td>\n",
       "      <td>Positively pantheonic</td>\n",
       "    </tr>\n",
       "  </tbody>\n",
       "</table>\n",
       "</div>"
      ],
      "text/plain": [
       "          Item Price_Large Price_Medium Price_Small   \n",
       "0        Fries        4.50         3.50              \\\n",
       "1  Greek salad        7.25                            \n",
       "\n",
       "                    Description  \n",
       "0  Available for a limited time  \n",
       "1         Positively pantheonic  "
      ]
     },
     "metadata": {},
     "output_type": "display_data"
    },
    {
     "data": {
      "text/html": [
       "<div>\n",
       "<style scoped>\n",
       "    .dataframe tbody tr th:only-of-type {\n",
       "        vertical-align: middle;\n",
       "    }\n",
       "\n",
       "    .dataframe tbody tr th {\n",
       "        vertical-align: top;\n",
       "    }\n",
       "\n",
       "    .dataframe thead th {\n",
       "        text-align: right;\n",
       "    }\n",
       "</style>\n",
       "<table border=\"1\" class=\"dataframe\">\n",
       "  <thead>\n",
       "    <tr style=\"text-align: right;\">\n",
       "      <th></th>\n",
       "      <th>Item</th>\n",
       "      <th>Price</th>\n",
       "      <th>Description</th>\n",
       "    </tr>\n",
       "  </thead>\n",
       "  <tbody>\n",
       "    <tr>\n",
       "      <th>0</th>\n",
       "      <td>Extra cheese</td>\n",
       "      <td>2.00</td>\n",
       "      <td></td>\n",
       "    </tr>\n",
       "    <tr>\n",
       "      <th>1</th>\n",
       "      <td>Mushrooms</td>\n",
       "      <td>1.50</td>\n",
       "      <td>Non-hallucinogenic</td>\n",
       "    </tr>\n",
       "  </tbody>\n",
       "</table>\n",
       "</div>"
      ],
      "text/plain": [
       "           Item Price         Description\n",
       "0  Extra cheese  2.00                    \n",
       "1     Mushrooms  1.50  Non-hallucinogenic"
      ]
     },
     "metadata": {},
     "output_type": "display_data"
    },
    {
     "data": {
      "text/html": [
       "<div>\n",
       "<style scoped>\n",
       "    .dataframe tbody tr th:only-of-type {\n",
       "        vertical-align: middle;\n",
       "    }\n",
       "\n",
       "    .dataframe tbody tr th {\n",
       "        vertical-align: top;\n",
       "    }\n",
       "\n",
       "    .dataframe thead th {\n",
       "        text-align: right;\n",
       "    }\n",
       "</style>\n",
       "<table border=\"1\" class=\"dataframe\">\n",
       "  <thead>\n",
       "    <tr style=\"text-align: right;\">\n",
       "      <th></th>\n",
       "      <th>Item</th>\n",
       "      <th>Price_Large</th>\n",
       "      <th>Price_Medium</th>\n",
       "      <th>Price_Small</th>\n",
       "      <th>Description</th>\n",
       "    </tr>\n",
       "  </thead>\n",
       "  <tbody>\n",
       "    <tr>\n",
       "      <th>0</th>\n",
       "      <td>Coke</td>\n",
       "      <td>3.00</td>\n",
       "      <td>2.00</td>\n",
       "      <td>1.00</td>\n",
       "      <td>Large = 3 Liter, Medium = 2 Liter, Smal = 16 o...</td>\n",
       "    </tr>\n",
       "    <tr>\n",
       "      <th>1</th>\n",
       "      <td>Sprite</td>\n",
       "      <td>3.00</td>\n",
       "      <td>2.00</td>\n",
       "      <td>1.00</td>\n",
       "      <td>Large = 3 Liter, Medium = 2 Liter, Smal = 16 o...</td>\n",
       "    </tr>\n",
       "  </tbody>\n",
       "</table>\n",
       "</div>"
      ],
      "text/plain": [
       "     Item Price_Large Price_Medium Price_Small   \n",
       "0    Coke        3.00         2.00        1.00  \\\n",
       "1  Sprite        3.00         2.00        1.00   \n",
       "\n",
       "                                         Description  \n",
       "0  Large = 3 Liter, Medium = 2 Liter, Smal = 16 o...  \n",
       "1  Large = 3 Liter, Medium = 2 Liter, Smal = 16 o...  "
      ]
     },
     "metadata": {},
     "output_type": "display_data"
    }
   ],
   "source": [
    "# columns = Large, Medium, Small, Description\n",
    "menu_pizzas = {'Pepperoni pizza': ['12.95', '10', '7', 'Our most popular'],\n",
    "        'Cheese pizza':  ['10.95', '9.25', '6.50', 'Extreme cheesiness'],\n",
    "        'Eggplant pizza':  ['11.95', '9.75', '6.75', 'A contemporary classic'],\n",
    "        }\n",
    "\n",
    "menu_sides = { # Item, Large, Medium, Small, Description\n",
    "        'Fries': ['4.50', '3.50', '', 'Available for a limited time'],\n",
    "        'Greek salad': ['7.25', '', '', 'Positively pantheonic'],\n",
    "        }\n",
    "\n",
    "menu_toppings = { # Topping price\n",
    "        'Extra cheese': ['2.00', ''],\n",
    "        'Mushrooms': [ '1.50', 'Non-hallucinogenic'],\n",
    "        'Sausage': ['3.00', 'Spicy with a hint of sweet'],\n",
    "        'Canadian bacon': ['3.50', ''],\n",
    "        'AI sauce': ['1.50', 'No human would have made it this way'],\n",
    "        'Peppers': ['1.00', ''],\n",
    "        }\n",
    "\n",
    "menu_drinks = { # Price_large, Price_medium, Price_small, Description\n",
    "        'Coke': ['3.00', '2.00', '1.00', 'Large = 3 Liter, Medium = 2 Liter, Smal = 16 ounces'],\n",
    "        'Sprite': ['3.00', '2.00', '1.00', 'Large = 3 Liter, Medium = 2 Liter, Smal = 16 ounces'],\n",
    "        'Bottled water': ['5.00', None, None, 'Single size = 20 ounces'],\n",
    "        }\n",
    "\n",
    "menu_pizzas_df = pd.DataFrame(menu_pizzas).T.reset_index()\n",
    "menu_pizzas_df.columns = ['Item', 'Price_Large', 'Price_Medium', 'Price_Small', 'Description']\n",
    "\n",
    "menu_sides_df = pd.DataFrame(menu_sides).T.reset_index()\n",
    "menu_sides_df.columns = ['Item', 'Price_Large', 'Price_Medium', 'Price_Small', 'Description']\n",
    "\n",
    "menu_drinks_df = pd.DataFrame(menu_drinks).T.reset_index()\n",
    "menu_drinks_df.columns = ['Item', 'Price_Large', 'Price_Medium', 'Price_Small', 'Description']\n",
    "\n",
    "menu_toppings_df = pd.DataFrame(menu_toppings).T.reset_index()\n",
    "menu_toppings_df.columns = ['Item', 'Price', 'Description']\n",
    "\n",
    "display(menu_pizzas_df.head(2))\n",
    "display(menu_sides_df.head(2))\n",
    "display(menu_toppings_df.head(2))\n",
    "display(menu_drinks_df.head(2))"
   ]
  },
  {
   "cell_type": "code",
   "execution_count": 5,
   "id": "0db4c3d7-00a6-402f-8d6a-c1f9b3b10111",
   "metadata": {},
   "outputs": [
    {
     "name": "stdout",
     "output_type": "stream",
     "text": [
      "INFO:root:time taken to write 3 rows (15 elements): 0.0s (88.4 rows/s)\n",
      "INFO:root:time taken to write 6 rows (18 elements): 0.0s (141.0 rows/s)\n",
      "INFO:root:time taken to write 2 rows (10 elements): 0.0s (71.4 rows/s)\n",
      "INFO:root:time taken to write 3 rows (15 elements): 0.0s (127.6 rows/s)\n"
     ]
    },
    {
     "data": {
      "text/html": [
       "<div>\n",
       "<style scoped>\n",
       "    .dataframe tbody tr th:only-of-type {\n",
       "        vertical-align: middle;\n",
       "    }\n",
       "\n",
       "    .dataframe tbody tr th {\n",
       "        vertical-align: top;\n",
       "    }\n",
       "\n",
       "    .dataframe thead th {\n",
       "        text-align: right;\n",
       "    }\n",
       "</style>\n",
       "<table border=\"1\" class=\"dataframe\">\n",
       "  <thead>\n",
       "    <tr style=\"text-align: right;\">\n",
       "      <th></th>\n",
       "      <th>count(*)</th>\n",
       "    </tr>\n",
       "  </thead>\n",
       "  <tbody>\n",
       "    <tr>\n",
       "      <th>0</th>\n",
       "      <td>3</td>\n",
       "    </tr>\n",
       "  </tbody>\n",
       "</table>\n",
       "</div>"
      ],
      "text/plain": [
       "   count(*)\n",
       "0         3"
      ]
     },
     "execution_count": 5,
     "metadata": {},
     "output_type": "execute_result"
    }
   ],
   "source": [
    "# store table in pizza_v1.db\n",
    "cobj = dbio.connectors.SQLite('pizza_v2.db')\n",
    "cobj.write(menu_pizzas_df, 'pizzas', if_exists='replace')\n",
    "cobj.write(menu_toppings_df, 'toppings', if_exists='replace')\n",
    "cobj.write(menu_sides_df, 'sides', if_exists='replace')\n",
    "cobj.write(menu_drinks_df, 'drinks', if_exists='replace')\n",
    "\n",
    "cobj.read('select count(*) from pizzas')"
   ]
  },
  {
   "cell_type": "code",
   "execution_count": 6,
   "id": "bbd9f265-f9bd-42cc-abee-5d61a2b70e4a",
   "metadata": {},
   "outputs": [],
   "source": [
    "_DEFAULT_TEMPLATE = \"\"\"Given an input question, first create a syntactically correct {dialect} query to run, \n",
    "then look at the results of the query and return the answer.\n",
    "Use the following format:\n",
    "\n",
    "Question: \"Question here\"\n",
    "SQLQuery: \"SQL Query to run\"\n",
    "SQLResult: \"Result of the SQLQuery\"\n",
    "Answer: \"Final answer here\"\n",
    "\n",
    "Only use the following tables:\n",
    "\n",
    "{table_info}\n",
    "\n",
    "When looking up information on products, be sure to check the Item and Type columns. Also lowercase the user\n",
    "input and fields in the tables to ensure a match. Use the LIKE operator to allow for partial string matches.\n",
    "\n",
    "In the WHERE CLAUSE combine mutliple filters together with a logical OR operator.\n",
    "\n",
    "Question: {input}\"\"\"\n",
    "PROMPT = PromptTemplate(\n",
    "    input_variables=[\"input\", \"table_info\", \"dialect\"], template=_DEFAULT_TEMPLATE\n",
    ")"
   ]
  },
  {
   "cell_type": "code",
   "execution_count": 7,
   "id": "b90d5d49-5f37-4bdb-aef5-77965257e3db",
   "metadata": {},
   "outputs": [],
   "source": [
    "db = SQLDatabase.from_uri(\"sqlite:///./pizza_v2.db\")\n",
    "llm = ChatOpenAI(model_name=\"gpt-3.5-turbo\", temperature=0, verbose=True)"
   ]
  },
  {
   "cell_type": "code",
   "execution_count": 8,
   "id": "4c1faf3c-acf9-4a90-9e39-5d2ad21f9d1d",
   "metadata": {},
   "outputs": [],
   "source": [
    "db_chain = SQLDatabaseChain.from_llm(llm, db, prompt=PROMPT, verbose=True)"
   ]
  },
  {
   "cell_type": "code",
   "execution_count": 36,
   "id": "c8c0465d-aa50-4162-ab7c-88c3b9d7a8a5",
   "metadata": {},
   "outputs": [
    {
     "name": "stdout",
     "output_type": "stream",
     "text": [
      "\n",
      "\n",
      "\u001b[1m> Entering new SQLDatabaseChain chain...\u001b[0m\n",
      "How many sizes of pizza do you have?  Name them.\n",
      "SQLQuery:\u001b[32;1m\u001b[1;3mSELECT DISTINCT Item, Description FROM pizzas WHERE Price_Large IS NOT NULL OR Price_Medium IS NOT NULL OR Price_Small IS NOT NULL\u001b[0m\n",
      "SQLResult: \u001b[33;1m\u001b[1;3m[('Pepperoni pizza', 'Our most popular'), ('Cheese pizza', 'Extreme cheesiness'), ('Eggplant pizza', 'A contemporary classic')]\u001b[0m\n",
      "Answer:\u001b[32;1m\u001b[1;3mThere are three sizes of pizza: Large, Medium, and Small. The pizza types are Pepperoni, Cheese, and Eggplant.\u001b[0m\n",
      "\u001b[1m> Finished chain.\u001b[0m\n"
     ]
    },
    {
     "data": {
      "text/plain": [
       "'There are three sizes of pizza: Large, Medium, and Small. The pizza types are Pepperoni, Cheese, and Eggplant.'"
      ]
     },
     "execution_count": 36,
     "metadata": {},
     "output_type": "execute_result"
    }
   ],
   "source": [
    "result = db_chain.run(\"How many sizes of pizza do you have?  Name them.\")\n",
    "result"
   ]
  },
  {
   "cell_type": "code",
   "execution_count": 10,
   "id": "6f9c00f5-2fc6-40e9-9343-8aef5a4b059c",
   "metadata": {},
   "outputs": [
    {
     "name": "stdout",
     "output_type": "stream",
     "text": [
      "\n",
      "\n",
      "\u001b[1m> Entering new SQLDatabaseChain chain...\u001b[0m\n",
      "What drinks can I order?\n",
      "SQLQuery:\u001b[32;1m\u001b[1;3mSELECT Item FROM drinks\u001b[0m\n",
      "SQLResult: \u001b[33;1m\u001b[1;3m[('Coke',), ('Sprite',), ('Bottled water',)]\u001b[0m\n",
      "Answer:INFO:openai:error_code=None error_message='Rate limit reached for default-gpt-3.5-turbo in organization org-xv1rthCl7lUSO5JPFfmTuZtK on requests per min. Limit: 3 / min. Please try again in 20s. Contact us through our help center at help.openai.com if you continue to have issues. Please add a payment method to your account to increase your rate limit. Visit https://platform.openai.com/account/billing to add a payment method.' error_param=None error_type=requests message='OpenAI API error received' stream_error=False\n",
      "WARNING:langchain.chat_models.openai:Retrying langchain.chat_models.openai.ChatOpenAI.completion_with_retry.<locals>._completion_with_retry in 1.0 seconds as it raised RateLimitError: Rate limit reached for default-gpt-3.5-turbo in organization org-xv1rthCl7lUSO5JPFfmTuZtK on requests per min. Limit: 3 / min. Please try again in 20s. Contact us through our help center at help.openai.com if you continue to have issues. Please add a payment method to your account to increase your rate limit. Visit https://platform.openai.com/account/billing to add a payment method..\n",
      "INFO:openai:error_code=None error_message='Rate limit reached for default-gpt-3.5-turbo in organization org-xv1rthCl7lUSO5JPFfmTuZtK on requests per min. Limit: 3 / min. Please try again in 20s. Contact us through our help center at help.openai.com if you continue to have issues. Please add a payment method to your account to increase your rate limit. Visit https://platform.openai.com/account/billing to add a payment method.' error_param=None error_type=requests message='OpenAI API error received' stream_error=False\n",
      "WARNING:langchain.chat_models.openai:Retrying langchain.chat_models.openai.ChatOpenAI.completion_with_retry.<locals>._completion_with_retry in 2.0 seconds as it raised RateLimitError: Rate limit reached for default-gpt-3.5-turbo in organization org-xv1rthCl7lUSO5JPFfmTuZtK on requests per min. Limit: 3 / min. Please try again in 20s. Contact us through our help center at help.openai.com if you continue to have issues. Please add a payment method to your account to increase your rate limit. Visit https://platform.openai.com/account/billing to add a payment method..\n",
      "INFO:openai:error_code=None error_message='Rate limit reached for default-gpt-3.5-turbo in organization org-xv1rthCl7lUSO5JPFfmTuZtK on requests per min. Limit: 3 / min. Please try again in 20s. Contact us through our help center at help.openai.com if you continue to have issues. Please add a payment method to your account to increase your rate limit. Visit https://platform.openai.com/account/billing to add a payment method.' error_param=None error_type=requests message='OpenAI API error received' stream_error=False\n",
      "WARNING:langchain.chat_models.openai:Retrying langchain.chat_models.openai.ChatOpenAI.completion_with_retry.<locals>._completion_with_retry in 4.0 seconds as it raised RateLimitError: Rate limit reached for default-gpt-3.5-turbo in organization org-xv1rthCl7lUSO5JPFfmTuZtK on requests per min. Limit: 3 / min. Please try again in 20s. Contact us through our help center at help.openai.com if you continue to have issues. Please add a payment method to your account to increase your rate limit. Visit https://platform.openai.com/account/billing to add a payment method..\n",
      "INFO:openai:error_code=None error_message='Rate limit reached for default-gpt-3.5-turbo in organization org-xv1rthCl7lUSO5JPFfmTuZtK on requests per min. Limit: 3 / min. Please try again in 20s. Contact us through our help center at help.openai.com if you continue to have issues. Please add a payment method to your account to increase your rate limit. Visit https://platform.openai.com/account/billing to add a payment method.' error_param=None error_type=requests message='OpenAI API error received' stream_error=False\n",
      "WARNING:langchain.chat_models.openai:Retrying langchain.chat_models.openai.ChatOpenAI.completion_with_retry.<locals>._completion_with_retry in 8.0 seconds as it raised RateLimitError: Rate limit reached for default-gpt-3.5-turbo in organization org-xv1rthCl7lUSO5JPFfmTuZtK on requests per min. Limit: 3 / min. Please try again in 20s. Contact us through our help center at help.openai.com if you continue to have issues. Please add a payment method to your account to increase your rate limit. Visit https://platform.openai.com/account/billing to add a payment method..\n",
      "\u001b[32;1m\u001b[1;3mYou can order Coke, Sprite, and Bottled water.\u001b[0m\n",
      "\u001b[1m> Finished chain.\u001b[0m\n"
     ]
    },
    {
     "data": {
      "text/plain": [
       "'You can order Coke, Sprite, and Bottled water.'"
      ]
     },
     "execution_count": 10,
     "metadata": {},
     "output_type": "execute_result"
    }
   ],
   "source": [
    "# query - drinks\n",
    "\n",
    "db_chain.run(\"What drinks can I order?\")"
   ]
  },
  {
   "cell_type": "code",
   "execution_count": 11,
   "id": "f0c06fad-fe88-4d07-ac32-f7565a8bafd5",
   "metadata": {},
   "outputs": [
    {
     "name": "stdout",
     "output_type": "stream",
     "text": [
      "\n",
      "\n",
      "\u001b[1m> Entering new SQLDatabaseChain chain...\u001b[0m\n",
      "Please tell me how many sizes of bottled water                        you have. Do you know how big they are?\n",
      "SQLQuery:\u001b[32;1m\u001b[1;3mSELECT COUNT(*) FROM drinks WHERE Item LIKE '%bottled water%'\u001b[0m\n",
      "SQLResult: \u001b[33;1m\u001b[1;3m[(1,)]\u001b[0m\n",
      "Answer:INFO:openai:error_code=None error_message='Rate limit reached for default-gpt-3.5-turbo in organization org-xv1rthCl7lUSO5JPFfmTuZtK on requests per min. Limit: 3 / min. Please try again in 20s. Contact us through our help center at help.openai.com if you continue to have issues. Please add a payment method to your account to increase your rate limit. Visit https://platform.openai.com/account/billing to add a payment method.' error_param=None error_type=requests message='OpenAI API error received' stream_error=False\n",
      "WARNING:langchain.chat_models.openai:Retrying langchain.chat_models.openai.ChatOpenAI.completion_with_retry.<locals>._completion_with_retry in 1.0 seconds as it raised RateLimitError: Rate limit reached for default-gpt-3.5-turbo in organization org-xv1rthCl7lUSO5JPFfmTuZtK on requests per min. Limit: 3 / min. Please try again in 20s. Contact us through our help center at help.openai.com if you continue to have issues. Please add a payment method to your account to increase your rate limit. Visit https://platform.openai.com/account/billing to add a payment method..\n",
      "INFO:openai:error_code=None error_message='Rate limit reached for default-gpt-3.5-turbo in organization org-xv1rthCl7lUSO5JPFfmTuZtK on requests per min. Limit: 3 / min. Please try again in 20s. Contact us through our help center at help.openai.com if you continue to have issues. Please add a payment method to your account to increase your rate limit. Visit https://platform.openai.com/account/billing to add a payment method.' error_param=None error_type=requests message='OpenAI API error received' stream_error=False\n",
      "WARNING:langchain.chat_models.openai:Retrying langchain.chat_models.openai.ChatOpenAI.completion_with_retry.<locals>._completion_with_retry in 2.0 seconds as it raised RateLimitError: Rate limit reached for default-gpt-3.5-turbo in organization org-xv1rthCl7lUSO5JPFfmTuZtK on requests per min. Limit: 3 / min. Please try again in 20s. Contact us through our help center at help.openai.com if you continue to have issues. Please add a payment method to your account to increase your rate limit. Visit https://platform.openai.com/account/billing to add a payment method..\n",
      "INFO:openai:error_code=None error_message='Rate limit reached for default-gpt-3.5-turbo in organization org-xv1rthCl7lUSO5JPFfmTuZtK on requests per min. Limit: 3 / min. Please try again in 20s. Contact us through our help center at help.openai.com if you continue to have issues. Please add a payment method to your account to increase your rate limit. Visit https://platform.openai.com/account/billing to add a payment method.' error_param=None error_type=requests message='OpenAI API error received' stream_error=False\n",
      "WARNING:langchain.chat_models.openai:Retrying langchain.chat_models.openai.ChatOpenAI.completion_with_retry.<locals>._completion_with_retry in 4.0 seconds as it raised RateLimitError: Rate limit reached for default-gpt-3.5-turbo in organization org-xv1rthCl7lUSO5JPFfmTuZtK on requests per min. Limit: 3 / min. Please try again in 20s. Contact us through our help center at help.openai.com if you continue to have issues. Please add a payment method to your account to increase your rate limit. Visit https://platform.openai.com/account/billing to add a payment method..\n",
      "INFO:openai:error_code=None error_message='Rate limit reached for default-gpt-3.5-turbo in organization org-xv1rthCl7lUSO5JPFfmTuZtK on requests per min. Limit: 3 / min. Please try again in 20s. Contact us through our help center at help.openai.com if you continue to have issues. Please add a payment method to your account to increase your rate limit. Visit https://platform.openai.com/account/billing to add a payment method.' error_param=None error_type=requests message='OpenAI API error received' stream_error=False\n",
      "WARNING:langchain.chat_models.openai:Retrying langchain.chat_models.openai.ChatOpenAI.completion_with_retry.<locals>._completion_with_retry in 8.0 seconds as it raised RateLimitError: Rate limit reached for default-gpt-3.5-turbo in organization org-xv1rthCl7lUSO5JPFfmTuZtK on requests per min. Limit: 3 / min. Please try again in 20s. Contact us through our help center at help.openai.com if you continue to have issues. Please add a payment method to your account to increase your rate limit. Visit https://platform.openai.com/account/billing to add a payment method..\n",
      "\u001b[32;1m\u001b[1;3mFinal answer here: There is one size of bottled water available, which is 20 ounces.\u001b[0m\n",
      "\u001b[1m> Finished chain.\u001b[0m\n"
     ]
    },
    {
     "data": {
      "text/plain": [
       "'Final answer here: There is one size of bottled water available, which is 20 ounces.'"
      ]
     },
     "execution_count": 11,
     "metadata": {},
     "output_type": "execute_result"
    }
   ],
   "source": [
    "# query - bottled water\n",
    "\n",
    "db_chain.run(\"Please tell me how many sizes of bottled water \\\n",
    "                       you have. Do you know how big they are?\")"
   ]
  },
  {
   "cell_type": "code",
   "execution_count": 14,
   "id": "4d96a360-f4e9-456c-9168-ff178cea6477",
   "metadata": {},
   "outputs": [
    {
     "name": "stdout",
     "output_type": "stream",
     "text": [
      "\n",
      "\n",
      "\u001b[1m> Entering new SQLDatabaseChain chain...\u001b[0m\n",
      "Are the mushrooms hallucinogenic?\n",
      "SQLQuery:\u001b[32;1m\u001b[1;3mSELECT Description FROM toppings WHERE Item LIKE '%mushrooms%'\u001b[0m\n",
      "SQLResult: \u001b[33;1m\u001b[1;3m[('Non-hallucinogenic',)]\u001b[0m\n",
      "Answer:\u001b[32;1m\u001b[1;3mNo, the mushrooms are not hallucinogenic according to the Description field in the toppings table.\u001b[0m\n",
      "\u001b[1m> Finished chain.\u001b[0m\n"
     ]
    },
    {
     "data": {
      "text/plain": [
       "'No, the mushrooms are not hallucinogenic according to the Description field in the toppings table.'"
      ]
     },
     "execution_count": 14,
     "metadata": {},
     "output_type": "execute_result"
    }
   ],
   "source": [
    "db_chain.run(\"Are the mushrooms hallucinogenic?\")"
   ]
  },
  {
   "cell_type": "code",
   "execution_count": 31,
   "id": "77640c2d-f9b6-41ea-b05f-e626346cf302",
   "metadata": {},
   "outputs": [
    {
     "name": "stdout",
     "output_type": "stream",
     "text": [
      "\n",
      "\n",
      "\u001b[1m> Entering new SQLDatabaseChain chain...\u001b[0m\n",
      "What is the price of a cheese pizza with sausage?\n",
      "SQLQuery:\u001b[32;1m\u001b[1;3mSELECT pizzas.Price_Large + toppings.Price AS Total_Price\n",
      "FROM pizzas, toppings\n",
      "WHERE pizzas.Item LIKE '%cheese%' AND toppings.Item LIKE '%sausage%'\u001b[0m\n",
      "SQLResult: \u001b[33;1m\u001b[1;3m[(13.95,)]\u001b[0m\n",
      "Answer:\u001b[32;1m\u001b[1;3mThe price of a cheese pizza with sausage is $13.95.\u001b[0m\n",
      "\u001b[1m> Finished chain.\u001b[0m\n"
     ]
    },
    {
     "data": {
      "text/plain": [
       "'The price of a cheese pizza with sausage is $13.95.'"
      ]
     },
     "execution_count": 31,
     "metadata": {},
     "output_type": "execute_result"
    }
   ],
   "source": [
    "db_chain.run(\"What is the price of a cheese pizza with sausage?\")"
   ]
  },
  {
   "cell_type": "code",
   "execution_count": 32,
   "id": "dc130c98-b8de-47e7-b2b1-86f73a55263b",
   "metadata": {},
   "outputs": [
    {
     "name": "stdout",
     "output_type": "stream",
     "text": [
      "\n",
      "\n",
      "\u001b[1m> Entering new SQLDatabaseChain chain...\u001b[0m\n",
      "What is the price of a cheese pizza topped with sausage and mushroom?\n",
      "SQLQuery:\u001b[32;1m\u001b[1;3mSELECT pizzas.Price_Large + toppings.Price + toppings.Price AS Total_Price\n",
      "FROM pizzas\n",
      "JOIN toppings ON pizzas.Item LIKE '%cheese%' AND toppings.Item LIKE '%sausage%' OR toppings.Item LIKE '%mushroom%'\n",
      "WHERE pizzas.Item LIKE '%cheese%'\u001b[0m\n",
      "SQLResult: \u001b[33;1m\u001b[1;3m[(13.95,), (16.95,)]\u001b[0m\n",
      "Answer:INFO:openai:error_code=None error_message='Rate limit reached for default-gpt-3.5-turbo in organization org-xv1rthCl7lUSO5JPFfmTuZtK on requests per min. Limit: 3 / min. Please try again in 20s. Contact us through our help center at help.openai.com if you continue to have issues. Please add a payment method to your account to increase your rate limit. Visit https://platform.openai.com/account/billing to add a payment method.' error_param=None error_type=requests message='OpenAI API error received' stream_error=False\n",
      "WARNING:langchain.chat_models.openai:Retrying langchain.chat_models.openai.ChatOpenAI.completion_with_retry.<locals>._completion_with_retry in 1.0 seconds as it raised RateLimitError: Rate limit reached for default-gpt-3.5-turbo in organization org-xv1rthCl7lUSO5JPFfmTuZtK on requests per min. Limit: 3 / min. Please try again in 20s. Contact us through our help center at help.openai.com if you continue to have issues. Please add a payment method to your account to increase your rate limit. Visit https://platform.openai.com/account/billing to add a payment method..\n",
      "INFO:openai:error_code=None error_message='Rate limit reached for default-gpt-3.5-turbo in organization org-xv1rthCl7lUSO5JPFfmTuZtK on requests per min. Limit: 3 / min. Please try again in 20s. Contact us through our help center at help.openai.com if you continue to have issues. Please add a payment method to your account to increase your rate limit. Visit https://platform.openai.com/account/billing to add a payment method.' error_param=None error_type=requests message='OpenAI API error received' stream_error=False\n",
      "WARNING:langchain.chat_models.openai:Retrying langchain.chat_models.openai.ChatOpenAI.completion_with_retry.<locals>._completion_with_retry in 2.0 seconds as it raised RateLimitError: Rate limit reached for default-gpt-3.5-turbo in organization org-xv1rthCl7lUSO5JPFfmTuZtK on requests per min. Limit: 3 / min. Please try again in 20s. Contact us through our help center at help.openai.com if you continue to have issues. Please add a payment method to your account to increase your rate limit. Visit https://platform.openai.com/account/billing to add a payment method..\n",
      "\u001b[32;1m\u001b[1;3mThe price of a cheese pizza topped with sausage and mushroom is either $13.95 for a small or $16.95 for a large.\u001b[0m\n",
      "\u001b[1m> Finished chain.\u001b[0m\n"
     ]
    },
    {
     "data": {
      "text/plain": [
       "'The price of a cheese pizza topped with sausage and mushroom is either $13.95 for a small or $16.95 for a large.'"
      ]
     },
     "execution_count": 32,
     "metadata": {},
     "output_type": "execute_result"
    }
   ],
   "source": [
    "db_chain.run(\"What is the price of a cheese pizza topped with sausage and mushroom?\")"
   ]
  },
  {
   "cell_type": "code",
   "execution_count": 44,
   "id": "90a10135-0dfc-4973-b74c-1acf17b76fe4",
   "metadata": {},
   "outputs": [
    {
     "name": "stdout",
     "output_type": "stream",
     "text": [
      "\n",
      "\n",
      "\u001b[1m> Entering new SQLDatabaseChain chain...\u001b[0m\n",
      "What is the price of a small pizza topped with both sausage and mushroom?\n",
      "SQLQuery:\u001b[32;1m\u001b[1;3mSELECT pizzas.Price_Small + toppings.Price AS Total_Price\n",
      "FROM pizzas\n",
      "JOIN toppings ON pizzas.Item LIKE '%sausage%' AND toppings.Item LIKE '%mushroom%'\n",
      "WHERE pizzas.Item LIKE '%pizza%' AND toppings.Item LIKE '%sausage%' AND toppings.Item LIKE '%mushroom%'\u001b[0m\n",
      "SQLResult: \u001b[33;1m\u001b[1;3m[]\u001b[0m\n",
      "Answer:\u001b[32;1m\u001b[1;3mThere is no answer to this question as the SQL query did not return any results.\u001b[0m\n",
      "\u001b[1m> Finished chain.\u001b[0m\n"
     ]
    },
    {
     "data": {
      "text/plain": [
       "'There is no answer to this question as the SQL query did not return any results.'"
      ]
     },
     "execution_count": 44,
     "metadata": {},
     "output_type": "execute_result"
    }
   ],
   "source": [
    "db_chain.run(\"What is the price of a small pizza topped with both sausage and mushroom?\")"
   ]
  },
  {
   "cell_type": "code",
   "execution_count": 47,
   "id": "890311e6-2fce-4aa8-bf0b-511160b28346",
   "metadata": {},
   "outputs": [
    {
     "name": "stdout",
     "output_type": "stream",
     "text": [
      "\n",
      "\n",
      "\u001b[1m> Entering new SQLDatabaseChain chain...\u001b[0m\n",
      "What is the diameter of each pizza size?\n",
      "SQLQuery:\u001b[32;1m\u001b[1;3mSELECT \"Item\", \"Description\", \n",
      "CASE \n",
      "\tWHEN \"Price_Large\" IS NOT NULL THEN \"Price_Large\" \n",
      "\tWHEN \"Price_Medium\" IS NOT NULL THEN \"Price_Medium\" \n",
      "\tELSE \"Price_Small\" \n",
      "END AS \"Price\",\n",
      "CASE \n",
      "\tWHEN \"Price_Large\" IS NOT NULL THEN \"Description\" \n",
      "\tWHEN \"Price_Medium\" IS NOT NULL THEN \"Description\" \n",
      "\tELSE \"Description\" \n",
      "END AS \"Size\"\n",
      "FROM pizzas\u001b[0m\n",
      "SQLResult: \u001b[33;1m\u001b[1;3m[('Pepperoni pizza', 'Our most popular', '12.95', 'Our most popular'), ('Cheese pizza', 'Extreme cheesiness', '10.95', 'Extreme cheesiness'), ('Eggplant pizza', 'A contemporary classic', '11.95', 'A contemporary classic')]\u001b[0m\n",
      "Answer:\u001b[32;1m\u001b[1;3mThe large pizza size has a diameter of 12 inches, the medium pizza size has a diameter of 10 inches, and the small pizza size has a diameter of 7 inches. However, this information is not available in the given tables.\u001b[0m\n",
      "\u001b[1m> Finished chain.\u001b[0m\n"
     ]
    },
    {
     "data": {
      "text/plain": [
       "'The large pizza size has a diameter of 12 inches, the medium pizza size has a diameter of 10 inches, and the small pizza size has a diameter of 7 inches. However, this information is not available in the given tables.'"
      ]
     },
     "execution_count": 47,
     "metadata": {},
     "output_type": "execute_result"
    }
   ],
   "source": [
    "db_chain.run(\"What is the diameter of each pizza size?\")"
   ]
  },
  {
   "cell_type": "code",
   "execution_count": 43,
   "id": "180fdd80-e4d6-4ccf-a0de-4709f5e415e5",
   "metadata": {},
   "outputs": [
    {
     "name": "stdout",
     "output_type": "stream",
     "text": [
      "\n",
      "\n",
      "\u001b[1m> Entering new SQLDatabaseSequentialChain chain...\u001b[0m\n",
      "Table names to use:\n",
      "\u001b[33;1m\u001b[1;3m['pizzas', 'toppings']\u001b[0m\n",
      "\n",
      "\u001b[1m> Entering new SQLDatabaseChain chain...\u001b[0m\n",
      "What is the price of a small pizza topped with both sausage and mushroom?\n",
      "SQLQuery:\u001b[32;1m\u001b[1;3mSELECT pizzas.Price_Small + toppings.Price AS Total_Price\n",
      "FROM pizzas\n",
      "JOIN toppings ON pizzas.Item = 'Cheese pizza' AND toppings.Item = 'Mushrooms' OR toppings.Item = 'Sausage'\n",
      "LIMIT 1\u001b[0m\n",
      "SQLResult: \u001b[33;1m\u001b[1;3m[(10.0,)]\u001b[0m\n",
      "Answer:INFO:openai:error_code=None error_message='Rate limit reached for default-gpt-3.5-turbo in organization org-xv1rthCl7lUSO5JPFfmTuZtK on requests per min. Limit: 3 / min. Please try again in 20s. Contact us through our help center at help.openai.com if you continue to have issues. Please add a payment method to your account to increase your rate limit. Visit https://platform.openai.com/account/billing to add a payment method.' error_param=None error_type=requests message='OpenAI API error received' stream_error=False\n",
      "WARNING:langchain.chat_models.openai:Retrying langchain.chat_models.openai.ChatOpenAI.completion_with_retry.<locals>._completion_with_retry in 1.0 seconds as it raised RateLimitError: Rate limit reached for default-gpt-3.5-turbo in organization org-xv1rthCl7lUSO5JPFfmTuZtK on requests per min. Limit: 3 / min. Please try again in 20s. Contact us through our help center at help.openai.com if you continue to have issues. Please add a payment method to your account to increase your rate limit. Visit https://platform.openai.com/account/billing to add a payment method..\n",
      "INFO:openai:error_code=None error_message='Rate limit reached for default-gpt-3.5-turbo in organization org-xv1rthCl7lUSO5JPFfmTuZtK on requests per min. Limit: 3 / min. Please try again in 20s. Contact us through our help center at help.openai.com if you continue to have issues. Please add a payment method to your account to increase your rate limit. Visit https://platform.openai.com/account/billing to add a payment method.' error_param=None error_type=requests message='OpenAI API error received' stream_error=False\n",
      "WARNING:langchain.chat_models.openai:Retrying langchain.chat_models.openai.ChatOpenAI.completion_with_retry.<locals>._completion_with_retry in 2.0 seconds as it raised RateLimitError: Rate limit reached for default-gpt-3.5-turbo in organization org-xv1rthCl7lUSO5JPFfmTuZtK on requests per min. Limit: 3 / min. Please try again in 20s. Contact us through our help center at help.openai.com if you continue to have issues. Please add a payment method to your account to increase your rate limit. Visit https://platform.openai.com/account/billing to add a payment method..\n",
      "INFO:openai:error_code=None error_message='Rate limit reached for default-gpt-3.5-turbo in organization org-xv1rthCl7lUSO5JPFfmTuZtK on requests per min. Limit: 3 / min. Please try again in 20s. Contact us through our help center at help.openai.com if you continue to have issues. Please add a payment method to your account to increase your rate limit. Visit https://platform.openai.com/account/billing to add a payment method.' error_param=None error_type=requests message='OpenAI API error received' stream_error=False\n",
      "WARNING:langchain.chat_models.openai:Retrying langchain.chat_models.openai.ChatOpenAI.completion_with_retry.<locals>._completion_with_retry in 4.0 seconds as it raised RateLimitError: Rate limit reached for default-gpt-3.5-turbo in organization org-xv1rthCl7lUSO5JPFfmTuZtK on requests per min. Limit: 3 / min. Please try again in 20s. Contact us through our help center at help.openai.com if you continue to have issues. Please add a payment method to your account to increase your rate limit. Visit https://platform.openai.com/account/billing to add a payment method..\n",
      "INFO:openai:error_code=None error_message='Rate limit reached for default-gpt-3.5-turbo in organization org-xv1rthCl7lUSO5JPFfmTuZtK on requests per min. Limit: 3 / min. Please try again in 20s. Contact us through our help center at help.openai.com if you continue to have issues. Please add a payment method to your account to increase your rate limit. Visit https://platform.openai.com/account/billing to add a payment method.' error_param=None error_type=requests message='OpenAI API error received' stream_error=False\n",
      "WARNING:langchain.chat_models.openai:Retrying langchain.chat_models.openai.ChatOpenAI.completion_with_retry.<locals>._completion_with_retry in 8.0 seconds as it raised RateLimitError: Rate limit reached for default-gpt-3.5-turbo in organization org-xv1rthCl7lUSO5JPFfmTuZtK on requests per min. Limit: 3 / min. Please try again in 20s. Contact us through our help center at help.openai.com if you continue to have issues. Please add a payment method to your account to increase your rate limit. Visit https://platform.openai.com/account/billing to add a payment method..\n",
      "\u001b[32;1m\u001b[1;3mThe price of a small pizza topped with both sausage and mushroom is $10.\u001b[0m\n",
      "\u001b[1m> Finished chain.\u001b[0m\n",
      "\n",
      "\u001b[1m> Finished chain.\u001b[0m\n"
     ]
    },
    {
     "data": {
      "text/plain": [
       "'The price of a small pizza topped with both sausage and mushroom is $10.'"
      ]
     },
     "execution_count": 43,
     "metadata": {},
     "output_type": "execute_result"
    }
   ],
   "source": [
    "# try again with sequential db chain - is this also using a query checker by default?\n",
    "# not using query checker, but something is causing the sql to be much more accurate and\n",
    "# the answers are correct\n",
    "\n",
    "from langchain.chains import SQLDatabaseSequentialChain\n",
    "#db = SQLDatabase.from_uri(\"sqlite:///./pizza_v2.db\")\n",
    "seq_chain = SQLDatabaseSequentialChain.from_llm(llm, db, verbose=True)\n",
    "seq_chain.run(\"What is the price of a small pizza topped with both sausage and mushroom?\")"
   ]
  },
  {
   "cell_type": "code",
   "execution_count": 46,
   "id": "7e6de45e-1bd6-4571-bcc2-527605073beb",
   "metadata": {},
   "outputs": [
    {
     "name": "stdout",
     "output_type": "stream",
     "text": [
      "\n",
      "\n",
      "\u001b[1m> Entering new SQLDatabaseSequentialChain chain...\u001b[0m\n",
      "Table names to use:\n",
      "\u001b[33;1m\u001b[1;3m['pizzas']\u001b[0m\n",
      "\n",
      "\u001b[1m> Entering new SQLDatabaseChain chain...\u001b[0m\n",
      "What is the diameter of each pizza size?\n",
      "SQLQuery:\u001b[32;1m\u001b[1;3mSELECT Price_Large, Price_Medium, Price_Small FROM pizzas\u001b[0m\n",
      "SQLResult: \u001b[33;1m\u001b[1;3m[('12.95', '10', '7'), ('10.95', '9.25', '6.50'), ('11.95', '9.75', '6.75')]\u001b[0m\n",
      "Answer:\u001b[32;1m\u001b[1;3mThe query returned the prices for each pizza size, not the diameter. The answer to the question cannot be determined from the given table.\u001b[0m\n",
      "\u001b[1m> Finished chain.\u001b[0m\n",
      "\n",
      "\u001b[1m> Finished chain.\u001b[0m\n"
     ]
    },
    {
     "data": {
      "text/plain": [
       "'The query returned the prices for each pizza size, not the diameter. The answer to the question cannot be determined from the given table.'"
      ]
     },
     "execution_count": 46,
     "metadata": {},
     "output_type": "execute_result"
    }
   ],
   "source": [
    "seq_chain.run(\"What is the diameter of each pizza size?\")"
   ]
  },
  {
   "cell_type": "code",
   "execution_count": 41,
   "id": "26b81b49-fc30-4fc8-aa56-75189d8b76c4",
   "metadata": {},
   "outputs": [
    {
     "data": {
      "text/html": [
       "<div>\n",
       "<style scoped>\n",
       "    .dataframe tbody tr th:only-of-type {\n",
       "        vertical-align: middle;\n",
       "    }\n",
       "\n",
       "    .dataframe tbody tr th {\n",
       "        vertical-align: top;\n",
       "    }\n",
       "\n",
       "    .dataframe thead th {\n",
       "        text-align: right;\n",
       "    }\n",
       "</style>\n",
       "<table border=\"1\" class=\"dataframe\">\n",
       "  <thead>\n",
       "    <tr style=\"text-align: right;\">\n",
       "      <th></th>\n",
       "      <th>Item</th>\n",
       "      <th>Price_Large</th>\n",
       "      <th>Price_Medium</th>\n",
       "      <th>Price_Small</th>\n",
       "      <th>Description</th>\n",
       "      <th>Price</th>\n",
       "      <th>Total_Price</th>\n",
       "    </tr>\n",
       "  </thead>\n",
       "  <tbody>\n",
       "    <tr>\n",
       "      <th>0</th>\n",
       "      <td>Mushrooms</td>\n",
       "      <td>10.95</td>\n",
       "      <td>9.25</td>\n",
       "      <td>6.50</td>\n",
       "      <td>Non-hallucinogenic</td>\n",
       "      <td>1.50</td>\n",
       "      <td>13.95</td>\n",
       "    </tr>\n",
       "    <tr>\n",
       "      <th>1</th>\n",
       "      <td>Sausage</td>\n",
       "      <td>10.95</td>\n",
       "      <td>9.25</td>\n",
       "      <td>6.50</td>\n",
       "      <td>Spicy with a hint of sweet</td>\n",
       "      <td>3.00</td>\n",
       "      <td>16.95</td>\n",
       "    </tr>\n",
       "  </tbody>\n",
       "</table>\n",
       "</div>"
      ],
      "text/plain": [
       "        Item Price_Large Price_Medium Price_Small                 Description   \n",
       "0  Mushrooms       10.95         9.25        6.50          Non-hallucinogenic  \\\n",
       "1    Sausage       10.95         9.25        6.50  Spicy with a hint of sweet   \n",
       "\n",
       "  Price  Total_Price  \n",
       "0  1.50        13.95  \n",
       "1  3.00        16.95  "
      ]
     },
     "execution_count": 41,
     "metadata": {},
     "output_type": "execute_result"
    }
   ],
   "source": [
    "cobj.read('''\n",
    "SELECT *, pizzas.Price_Large + toppings.Price + toppings.Price AS Total_Price\n",
    "FROM pizzas, toppings\n",
    "WHERE pizzas.Item = 'Cheese pizza' AND toppings.Item IN ('Sausage', 'Mushrooms')\n",
    "''')"
   ]
  },
  {
   "cell_type": "markdown",
   "id": "1c1863f8-48ff-45e5-9fb1-9f479d7a2f27",
   "metadata": {},
   "source": [
    "scratchwork"
   ]
  },
  {
   "cell_type": "code",
   "execution_count": null,
   "id": "dfef9f4d-56cc-4818-9041-ebb67036c50c",
   "metadata": {},
   "outputs": [],
   "source": [
    "cobj.read(\"select * from menu where Item like '%ater%'\")"
   ]
  },
  {
   "cell_type": "code",
   "execution_count": 34,
   "id": "44c77e0e-cee8-4276-bab4-d053b23f05da",
   "metadata": {},
   "outputs": [
    {
     "data": {
      "text/html": [
       "<div>\n",
       "<style scoped>\n",
       "    .dataframe tbody tr th:only-of-type {\n",
       "        vertical-align: middle;\n",
       "    }\n",
       "\n",
       "    .dataframe tbody tr th {\n",
       "        vertical-align: top;\n",
       "    }\n",
       "\n",
       "    .dataframe thead th {\n",
       "        text-align: right;\n",
       "    }\n",
       "</style>\n",
       "<table border=\"1\" class=\"dataframe\">\n",
       "  <thead>\n",
       "    <tr style=\"text-align: right;\">\n",
       "      <th></th>\n",
       "      <th>Item</th>\n",
       "      <th>Price_Large</th>\n",
       "      <th>Price_Medium</th>\n",
       "      <th>Price_Small</th>\n",
       "      <th>Description</th>\n",
       "      <th>Price</th>\n",
       "      <th>Total_Price</th>\n",
       "    </tr>\n",
       "  </thead>\n",
       "  <tbody>\n",
       "    <tr>\n",
       "      <th>0</th>\n",
       "      <td>Mushrooms</td>\n",
       "      <td>10.95</td>\n",
       "      <td>9.25</td>\n",
       "      <td>6.50</td>\n",
       "      <td>Non-hallucinogenic</td>\n",
       "      <td>1.50</td>\n",
       "      <td>13.95</td>\n",
       "    </tr>\n",
       "    <tr>\n",
       "      <th>1</th>\n",
       "      <td>Sausage</td>\n",
       "      <td>10.95</td>\n",
       "      <td>9.25</td>\n",
       "      <td>6.50</td>\n",
       "      <td>Spicy with a hint of sweet</td>\n",
       "      <td>3.00</td>\n",
       "      <td>16.95</td>\n",
       "    </tr>\n",
       "  </tbody>\n",
       "</table>\n",
       "</div>"
      ],
      "text/plain": [
       "        Item Price_Large Price_Medium Price_Small                 Description   \n",
       "0  Mushrooms       10.95         9.25        6.50          Non-hallucinogenic  \\\n",
       "1    Sausage       10.95         9.25        6.50  Spicy with a hint of sweet   \n",
       "\n",
       "  Price  Total_Price  \n",
       "0  1.50        13.95  \n",
       "1  3.00        16.95  "
      ]
     },
     "execution_count": 34,
     "metadata": {},
     "output_type": "execute_result"
    }
   ],
   "source": [
    "cobj.read('''\n",
    "SELECT *, pizzas.Price_Large + toppings.Price + toppings.Price AS Total_Price\n",
    "FROM pizzas\n",
    "JOIN toppings ON pizzas.Item LIKE '%cheese%' AND toppings.Item LIKE '%sausage%' OR toppings.Item LIKE '%mushroom%'\n",
    "WHERE pizzas.Item LIKE '%cheese%'\n",
    "''')"
   ]
  },
  {
   "cell_type": "markdown",
   "id": "cb5a2a66-640f-4744-aae9-c01ddbd7a7c6",
   "metadata": {},
   "source": [
    "sqlDatabaseChain notes:\n",
    " - you can specify return_direct=True in the SQLDatabaseChain initialization to directly return the output of the SQL query without any additional formatting. This prevents the LLM from seeing any contents within the database. Note, however, the LLM still has access to the database scheme (i.e. dialect, table and key names) by default.\n",
    " - SQLDatabaseChain.from_llm(llm, db, verbose=True, use_query_checker=True) for query checking\n",
    " - Return intermediate steps instead of just the final answer: SQLDatabaseChain.from_llm(llm, db, prompt=PROMPT, verbose=True, use_query_checker=True, return_intermediate_steps=True)"
   ]
  },
  {
   "cell_type": "code",
   "execution_count": null,
   "id": "a9f7cf70-3d97-44d1-bf33-c391d89122f3",
   "metadata": {},
   "outputs": [],
   "source": []
  }
 ],
 "metadata": {
  "kernelspec": {
   "display_name": "Python 3 (ipykernel)",
   "language": "python",
   "name": "python3"
  },
  "language_info": {
   "codemirror_mode": {
    "name": "ipython",
    "version": 3
   },
   "file_extension": ".py",
   "mimetype": "text/x-python",
   "name": "python",
   "nbconvert_exporter": "python",
   "pygments_lexer": "ipython3",
   "version": "3.11.3"
  }
 },
 "nbformat": 4,
 "nbformat_minor": 5
}
